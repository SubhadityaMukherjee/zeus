{
 "cells": [
  {
   "cell_type": "markdown",
   "id": "efficient-multiple",
   "metadata": {},
   "source": [
    "# Imports"
   ]
  },
  {
   "cell_type": "code",
   "execution_count": 1,
   "id": "metric-beijing",
   "metadata": {
    "execution": {
     "iopub.execute_input": "2021-07-05T20:35:34.185902Z",
     "iopub.status.busy": "2021-07-05T20:35:34.185365Z",
     "iopub.status.idle": "2021-07-05T20:35:34.199535Z",
     "shell.execute_reply": "2021-07-05T20:35:34.198798Z",
     "shell.execute_reply.started": "2021-07-05T20:35:34.185764Z"
    }
   },
   "outputs": [],
   "source": [
    "import argparse\n",
    "import os\n",
    "import sys\n",
    "sys.path.append(\"../\")\n",
    "os.environ['TORCH_HOME'] = \"/media/hdd/Datasets/\""
   ]
  },
  {
   "cell_type": "code",
   "execution_count": 2,
   "id": "obvious-pioneer",
   "metadata": {
    "execution": {
     "iopub.execute_input": "2021-07-05T20:35:34.201733Z",
     "iopub.status.busy": "2021-07-05T20:35:34.201098Z",
     "iopub.status.idle": "2021-07-05T20:35:35.551993Z",
     "shell.execute_reply": "2021-07-05T20:35:35.551548Z",
     "shell.execute_reply.started": "2021-07-05T20:35:34.201663Z"
    }
   },
   "outputs": [],
   "source": [
    "import glob\n",
    "import albumentations\n",
    "import pandas as pd\n",
    "import zeus\n",
    "import torch\n",
    "import torch.nn as nn\n",
    "from efficientnet_pytorch import EfficientNet\n",
    "from sklearn import metrics, model_selection, preprocessing\n",
    "from zeus.callbacks import EarlyStopping, TensorBoardLogger, GradientClipping, PlotLoss\n",
    "from zeus.metrics import LabelSmoothingCrossEntropy\n",
    "from zeus.datasets import ImageDataset\n",
    "from albumentations.pytorch import ToTensorV2\n",
    "from torch.nn import functional as F"
   ]
  },
  {
   "cell_type": "code",
   "execution_count": 3,
   "id": "parental-honey",
   "metadata": {
    "execution": {
     "iopub.execute_input": "2021-07-05T20:35:35.552788Z",
     "iopub.status.busy": "2021-07-05T20:35:35.552636Z",
     "iopub.status.idle": "2021-07-05T20:35:35.559245Z",
     "shell.execute_reply": "2021-07-05T20:35:35.558756Z",
     "shell.execute_reply.started": "2021-07-05T20:35:35.552751Z"
    }
   },
   "outputs": [],
   "source": [
    "from zeus.utils.model_helpers import *"
   ]
  },
  {
   "cell_type": "markdown",
   "id": "standard-transition",
   "metadata": {},
   "source": [
    "# Defining"
   ]
  },
  {
   "cell_type": "markdown",
   "id": "designed-chocolate",
   "metadata": {},
   "source": [
    "## Params"
   ]
  },
  {
   "cell_type": "code",
   "execution_count": 4,
   "id": "animated-spanking",
   "metadata": {
    "execution": {
     "iopub.execute_input": "2021-07-05T20:35:35.560015Z",
     "iopub.status.busy": "2021-07-05T20:35:35.559902Z",
     "iopub.status.idle": "2021-07-05T20:35:35.562358Z",
     "shell.execute_reply": "2021-07-05T20:35:35.561974Z",
     "shell.execute_reply.started": "2021-07-05T20:35:35.560000Z"
    }
   },
   "outputs": [],
   "source": [
    "INPUT_PATH = \"/media/hdd/Datasets/blindness/\"\n",
    "MODEL_PATH = \"./models/\"\n",
    "MODEL_NAME = os.path.basename(\"blindness.pt\")\n",
    "TRAIN_BATCH_SIZE = 140\n",
    "VALID_BATCH_SIZE = 140\n",
    "IMAGE_SIZE = 192"
   ]
  },
  {
   "cell_type": "code",
   "execution_count": 5,
   "id": "banner-viking",
   "metadata": {
    "execution": {
     "iopub.execute_input": "2021-07-05T20:35:35.563083Z",
     "iopub.status.busy": "2021-07-05T20:35:35.562941Z",
     "iopub.status.idle": "2021-07-05T20:35:35.570297Z",
     "shell.execute_reply": "2021-07-05T20:35:35.569627Z",
     "shell.execute_reply.started": "2021-07-05T20:35:35.563055Z"
    }
   },
   "outputs": [],
   "source": [
    "class Model(zeus.Model):\n",
    "    def __init__(self, num_classes):\n",
    "        super().__init__()\n",
    "\n",
    "        self.effnet = EfficientNet.from_pretrained(\"efficientnet-b0\")\n",
    "        self.dropout = nn.Dropout(0.1)\n",
    "        self.out = nn.Linear(1280, num_classes)\n",
    "\n",
    "    def monitor_metrics(self, outputs, targets):\n",
    "        outputs = torch.argmax(outputs, dim=1).cpu().detach().numpy()\n",
    "        targets = targets.cpu().detach().numpy()\n",
    "        accuracy = metrics.accuracy_score(targets, outputs)\n",
    "        return {\"accuracy\": accuracy}\n",
    "\n",
    "    def fetch_optimizer(self):\n",
    "        opt = torch.optim.AdamW(self.parameters(), lr=1e-4)\n",
    "        return opt\n",
    "\n",
    "    def forward(self, image, targets=None):\n",
    "        batch_size, _, _, _ = image.shape\n",
    "\n",
    "        x = self.effnet.extract_features(image)\n",
    "        x = F.adaptive_avg_pool2d(x, 1).reshape(batch_size, -1)\n",
    "        outputs = self.out(self.dropout(x))\n",
    "\n",
    "        if targets is not None:\n",
    "            #  loss = nn.CrossEntropyLoss()(outputs, targets)\n",
    "            loss = LabelSmoothingCrossEntropy()(outputs, targets)\n",
    "            metrics = self.monitor_metrics(outputs, targets)\n",
    "            return outputs, loss, metrics\n",
    "        return outputs, 0, {}"
   ]
  },
  {
   "cell_type": "code",
   "execution_count": 6,
   "id": "union-river",
   "metadata": {
    "execution": {
     "iopub.execute_input": "2021-07-05T20:35:35.571178Z",
     "iopub.status.busy": "2021-07-05T20:35:35.571042Z",
     "iopub.status.idle": "2021-07-05T20:35:35.575945Z",
     "shell.execute_reply": "2021-07-05T20:35:35.575537Z",
     "shell.execute_reply.started": "2021-07-05T20:35:35.571163Z"
    }
   },
   "outputs": [],
   "source": [
    "train_aug = albumentations.Compose(\n",
    "    [\n",
    "        albumentations.Resize(IMAGE_SIZE,IMAGE_SIZE),\n",
    "        albumentations.Transpose(p=0.5),\n",
    "        albumentations.HorizontalFlip(p=0.5),\n",
    "        albumentations.VerticalFlip(p=0.5),\n",
    "        albumentations.ShiftScaleRotate(p=0.5),\n",
    "        albumentations.HueSaturationValue(\n",
    "            hue_shift_limit=0.2, sat_shift_limit=0.2, val_shift_limit=0.2, p=0.5\n",
    "        ),\n",
    "        albumentations.RandomBrightnessContrast(\n",
    "            brightness_limit=(-0.1, 0.1), contrast_limit=(-0.1, 0.1), p=0.5\n",
    "        ),\n",
    "        albumentations.Normalize(\n",
    "            mean=[0.485, 0.456, 0.406],\n",
    "            std=[0.229, 0.224, 0.225],\n",
    "            max_pixel_value=255.0,\n",
    "            p=1.0,\n",
    "        ),\n",
    "    ],\n",
    "    p=1.0,\n",
    ")\n",
    "\n",
    "valid_aug = albumentations.Compose(\n",
    "    [\n",
    "        albumentations.Resize(IMAGE_SIZE,IMAGE_SIZE),\n",
    "        albumentations.Normalize(\n",
    "            mean=[0.485, 0.456, 0.406],\n",
    "            std=[0.229, 0.224, 0.225],\n",
    "            max_pixel_value=255.0,\n",
    "            p=1.0,\n",
    "        ),\n",
    "    ],\n",
    "    p=1.0,\n",
    ")"
   ]
  },
  {
   "cell_type": "code",
   "execution_count": 7,
   "id": "liquid-spiritual",
   "metadata": {
    "execution": {
     "iopub.execute_input": "2021-07-05T20:35:35.577214Z",
     "iopub.status.busy": "2021-07-05T20:35:35.577091Z",
     "iopub.status.idle": "2021-07-05T20:35:35.579002Z",
     "shell.execute_reply": "2021-07-05T20:35:35.578653Z",
     "shell.execute_reply.started": "2021-07-05T20:35:35.577199Z"
    }
   },
   "outputs": [],
   "source": [
    "# train_image_paths = glob.glob(\n",
    "#     os.path.join(\n",
    "#         INPUT_PATH, f\"jpeg-{IMAGE_SIZE}x{IMAGE_SIZE}\", \"train\", \"**\", \"*.jpeg\"\n",
    "#     ),\n",
    "#     recursive=True,\n",
    "# )\n",
    "\n",
    "# valid_image_paths = glob.glob(\n",
    "#     os.path.join(\n",
    "#         INPUT_PATH, f\"jpeg-{IMAGE_SIZE}x{IMAGE_SIZE}\", \"val\", \"**\", \"*.jpeg\"\n",
    "#     ),\n",
    "#     recursive=True,\n",
    "# )"
   ]
  },
  {
   "cell_type": "code",
   "execution_count": 8,
   "id": "assured-adrian",
   "metadata": {
    "execution": {
     "iopub.execute_input": "2021-07-05T20:35:35.579822Z",
     "iopub.status.busy": "2021-07-05T20:35:35.579702Z",
     "iopub.status.idle": "2021-07-05T20:35:35.581600Z",
     "shell.execute_reply": "2021-07-05T20:35:35.581204Z",
     "shell.execute_reply.started": "2021-07-05T20:35:35.579808Z"
    }
   },
   "outputs": [],
   "source": [
    "# train_targets = [x.split(\"/\")[-2] for x in train_image_paths]\n",
    "# valid_targets = [x.split(\"/\")[-2] for x in valid_image_paths]"
   ]
  },
  {
   "cell_type": "markdown",
   "id": "dependent-drove",
   "metadata": {},
   "source": [
    "## Data pre process"
   ]
  },
  {
   "cell_type": "code",
   "execution_count": 9,
   "id": "entertaining-translator",
   "metadata": {
    "execution": {
     "iopub.execute_input": "2021-07-05T20:35:35.582476Z",
     "iopub.status.busy": "2021-07-05T20:35:35.582266Z",
     "iopub.status.idle": "2021-07-05T20:35:35.604934Z",
     "shell.execute_reply": "2021-07-05T20:35:35.604282Z",
     "shell.execute_reply.started": "2021-07-05T20:35:35.582447Z"
    }
   },
   "outputs": [
    {
     "data": {
      "text/html": [
       "<div>\n",
       "<style scoped>\n",
       "    .dataframe tbody tr th:only-of-type {\n",
       "        vertical-align: middle;\n",
       "    }\n",
       "\n",
       "    .dataframe tbody tr th {\n",
       "        vertical-align: top;\n",
       "    }\n",
       "\n",
       "    .dataframe thead th {\n",
       "        text-align: right;\n",
       "    }\n",
       "</style>\n",
       "<table border=\"1\" class=\"dataframe\">\n",
       "  <thead>\n",
       "    <tr style=\"text-align: right;\">\n",
       "      <th></th>\n",
       "      <th>image</th>\n",
       "      <th>level</th>\n",
       "    </tr>\n",
       "  </thead>\n",
       "  <tbody>\n",
       "    <tr>\n",
       "      <th>0</th>\n",
       "      <td>10_left</td>\n",
       "      <td>0</td>\n",
       "    </tr>\n",
       "    <tr>\n",
       "      <th>1</th>\n",
       "      <td>10_right</td>\n",
       "      <td>0</td>\n",
       "    </tr>\n",
       "    <tr>\n",
       "      <th>2</th>\n",
       "      <td>13_left</td>\n",
       "      <td>0</td>\n",
       "    </tr>\n",
       "  </tbody>\n",
       "</table>\n",
       "</div>"
      ],
      "text/plain": [
       "      image  level\n",
       "0   10_left      0\n",
       "1  10_right      0\n",
       "2   13_left      0"
      ]
     },
     "execution_count": 9,
     "metadata": {},
     "output_type": "execute_result"
    }
   ],
   "source": [
    "df = pd.read_csv(INPUT_PATH+\"trainLabels.csv\");df.head(3)"
   ]
  },
  {
   "cell_type": "code",
   "execution_count": 10,
   "id": "through-steering",
   "metadata": {
    "execution": {
     "iopub.execute_input": "2021-07-05T20:35:35.605829Z",
     "iopub.status.busy": "2021-07-05T20:35:35.605655Z",
     "iopub.status.idle": "2021-07-05T20:35:35.624013Z",
     "shell.execute_reply": "2021-07-05T20:35:35.623320Z",
     "shell.execute_reply.started": "2021-07-05T20:35:35.605814Z"
    }
   },
   "outputs": [
    {
     "data": {
      "text/html": [
       "<div>\n",
       "<style scoped>\n",
       "    .dataframe tbody tr th:only-of-type {\n",
       "        vertical-align: middle;\n",
       "    }\n",
       "\n",
       "    .dataframe tbody tr th {\n",
       "        vertical-align: top;\n",
       "    }\n",
       "\n",
       "    .dataframe thead th {\n",
       "        text-align: right;\n",
       "    }\n",
       "</style>\n",
       "<table border=\"1\" class=\"dataframe\">\n",
       "  <thead>\n",
       "    <tr style=\"text-align: right;\">\n",
       "      <th></th>\n",
       "      <th>image</th>\n",
       "      <th>level</th>\n",
       "    </tr>\n",
       "  </thead>\n",
       "  <tbody>\n",
       "    <tr>\n",
       "      <th>0</th>\n",
       "      <td>/media/hdd/Datasets/blindness/trainImages/10_l...</td>\n",
       "      <td>0</td>\n",
       "    </tr>\n",
       "    <tr>\n",
       "      <th>1</th>\n",
       "      <td>/media/hdd/Datasets/blindness/trainImages/10_r...</td>\n",
       "      <td>0</td>\n",
       "    </tr>\n",
       "    <tr>\n",
       "      <th>2</th>\n",
       "      <td>/media/hdd/Datasets/blindness/trainImages/13_l...</td>\n",
       "      <td>0</td>\n",
       "    </tr>\n",
       "  </tbody>\n",
       "</table>\n",
       "</div>"
      ],
      "text/plain": [
       "                                               image  level\n",
       "0  /media/hdd/Datasets/blindness/trainImages/10_l...      0\n",
       "1  /media/hdd/Datasets/blindness/trainImages/10_r...      0\n",
       "2  /media/hdd/Datasets/blindness/trainImages/13_l...      0"
      ]
     },
     "execution_count": 10,
     "metadata": {},
     "output_type": "execute_result"
    }
   ],
   "source": [
    "df[\"image\"] = INPUT_PATH+\"trainImages/\"+df[\"image\"]+\".jpg\"; df.head(3)"
   ]
  },
  {
   "cell_type": "code",
   "execution_count": 11,
   "id": "minus-annual",
   "metadata": {
    "execution": {
     "iopub.execute_input": "2021-07-05T20:35:35.625017Z",
     "iopub.status.busy": "2021-07-05T20:35:35.624850Z",
     "iopub.status.idle": "2021-07-05T20:35:35.627553Z",
     "shell.execute_reply": "2021-07-05T20:35:35.627010Z",
     "shell.execute_reply.started": "2021-07-05T20:35:35.624989Z"
    }
   },
   "outputs": [],
   "source": [
    "# SUBSET REMOVE LATER\n",
    "df = df.head(5000)"
   ]
  },
  {
   "cell_type": "code",
   "execution_count": 12,
   "id": "pregnant-hollow",
   "metadata": {
    "execution": {
     "iopub.execute_input": "2021-07-05T20:35:35.628210Z",
     "iopub.status.busy": "2021-07-05T20:35:35.628094Z",
     "iopub.status.idle": "2021-07-05T20:35:35.630034Z",
     "shell.execute_reply": "2021-07-05T20:35:35.629751Z",
     "shell.execute_reply.started": "2021-07-05T20:35:35.628195Z"
    }
   },
   "outputs": [],
   "source": [
    "from sklearn.model_selection import train_test_split"
   ]
  },
  {
   "cell_type": "code",
   "execution_count": 13,
   "id": "sacred-wrist",
   "metadata": {
    "execution": {
     "iopub.execute_input": "2021-07-05T20:35:35.630731Z",
     "iopub.status.busy": "2021-07-05T20:35:35.630617Z",
     "iopub.status.idle": "2021-07-05T20:35:35.634205Z",
     "shell.execute_reply": "2021-07-05T20:35:35.633667Z",
     "shell.execute_reply.started": "2021-07-05T20:35:35.630716Z"
    }
   },
   "outputs": [],
   "source": [
    "train_images ,valid_images =  train_test_split(df, test_size=.33)"
   ]
  },
  {
   "cell_type": "code",
   "execution_count": 14,
   "id": "utility-elite",
   "metadata": {
    "execution": {
     "iopub.execute_input": "2021-07-05T20:35:35.634794Z",
     "iopub.status.busy": "2021-07-05T20:35:35.634683Z",
     "iopub.status.idle": "2021-07-05T20:35:35.637180Z",
     "shell.execute_reply": "2021-07-05T20:35:35.636741Z",
     "shell.execute_reply.started": "2021-07-05T20:35:35.634780Z"
    }
   },
   "outputs": [],
   "source": [
    "train_image_paths, valid_image_paths = train_images[\"image\"].values , valid_images[\"image\"].values"
   ]
  },
  {
   "cell_type": "code",
   "execution_count": 15,
   "id": "governing-steal",
   "metadata": {
    "execution": {
     "iopub.execute_input": "2021-07-05T20:35:35.637849Z",
     "iopub.status.busy": "2021-07-05T20:35:35.637706Z",
     "iopub.status.idle": "2021-07-05T20:35:35.640104Z",
     "shell.execute_reply": "2021-07-05T20:35:35.639763Z",
     "shell.execute_reply.started": "2021-07-05T20:35:35.637834Z"
    }
   },
   "outputs": [],
   "source": [
    "train_targets, valid_targets = train_images[\"level\"].values , valid_images[\"level\"].values"
   ]
  },
  {
   "cell_type": "markdown",
   "id": "smaller-musical",
   "metadata": {},
   "source": [
    "## Training"
   ]
  },
  {
   "cell_type": "code",
   "execution_count": 16,
   "id": "basic-wallet",
   "metadata": {
    "execution": {
     "iopub.execute_input": "2021-07-05T20:35:35.640744Z",
     "iopub.status.busy": "2021-07-05T20:35:35.640632Z",
     "iopub.status.idle": "2021-07-05T20:35:35.643314Z",
     "shell.execute_reply": "2021-07-05T20:35:35.642891Z",
     "shell.execute_reply.started": "2021-07-05T20:35:35.640730Z"
    }
   },
   "outputs": [],
   "source": [
    "lbl_enc = preprocessing.LabelEncoder()\n",
    "train_targets = lbl_enc.fit_transform(train_targets)\n",
    "valid_targets = lbl_enc.transform(valid_targets)"
   ]
  },
  {
   "cell_type": "code",
   "execution_count": 17,
   "id": "raising-filter",
   "metadata": {
    "execution": {
     "iopub.execute_input": "2021-07-05T20:35:35.644099Z",
     "iopub.status.busy": "2021-07-05T20:35:35.643969Z",
     "iopub.status.idle": "2021-07-05T20:35:35.646614Z",
     "shell.execute_reply": "2021-07-05T20:35:35.646146Z",
     "shell.execute_reply.started": "2021-07-05T20:35:35.644084Z"
    }
   },
   "outputs": [],
   "source": [
    "train_dataset = ImageDataset(\n",
    "    image_paths=train_image_paths,\n",
    "    targets=train_targets,\n",
    "    augmentations=train_aug,\n",
    ")\n",
    "\n",
    "valid_dataset = ImageDataset(\n",
    "    image_paths=valid_image_paths,\n",
    "    targets=valid_targets,\n",
    "    augmentations=valid_aug,\n",
    ")"
   ]
  },
  {
   "cell_type": "markdown",
   "id": "crazy-tactics",
   "metadata": {},
   "source": [
    "## Callbacks"
   ]
  },
  {
   "cell_type": "code",
   "execution_count": 18,
   "id": "equivalent-graham",
   "metadata": {
    "execution": {
     "iopub.execute_input": "2021-07-05T20:35:35.647332Z",
     "iopub.status.busy": "2021-07-05T20:35:35.647215Z",
     "iopub.status.idle": "2021-07-05T20:35:35.725950Z",
     "shell.execute_reply": "2021-07-05T20:35:35.725480Z",
     "shell.execute_reply.started": "2021-07-05T20:35:35.647316Z"
    }
   },
   "outputs": [
    {
     "name": "stdout",
     "output_type": "stream",
     "text": [
      "Loaded pretrained weights for efficientnet-b0\n"
     ]
    }
   ],
   "source": [
    "model = Model(num_classes=len(lbl_enc.classes_))\n",
    "\n",
    "es = EarlyStopping(\n",
    "    monitor=\"valid_loss\",\n",
    "    model_path=os.path.join(MODEL_PATH, MODEL_NAME + \".bin\"),\n",
    "    patience=3,\n",
    "    mode=\"min\",\n",
    ")\n",
    "\n",
    "tb = TensorBoardLogger()\n",
    "grc = GradientClipping(5)\n",
    "pl = PlotLoss(2)"
   ]
  },
  {
   "cell_type": "code",
   "execution_count": 19,
   "id": "ahead-drawing",
   "metadata": {
    "execution": {
     "iopub.execute_input": "2021-07-05T20:35:35.726631Z",
     "iopub.status.busy": "2021-07-05T20:35:35.726517Z",
     "iopub.status.idle": "2021-07-05T20:35:35.731135Z",
     "shell.execute_reply": "2021-07-05T20:35:35.730644Z",
     "shell.execute_reply.started": "2021-07-05T20:35:35.726616Z"
    }
   },
   "outputs": [
    {
     "name": "stdout",
     "output_type": "stream",
     "text": [
      "Total Trainable Params: 5294953\n"
     ]
    },
    {
     "data": {
      "text/plain": [
       "5294953"
      ]
     },
     "execution_count": 19,
     "metadata": {},
     "output_type": "execute_result"
    }
   ],
   "source": [
    "count_parameters(model, showtable=False)"
   ]
  },
  {
   "cell_type": "code",
   "execution_count": 20,
   "id": "supposed-visit",
   "metadata": {
    "execution": {
     "iopub.execute_input": "2021-07-05T20:35:35.731851Z",
     "iopub.status.busy": "2021-07-05T20:35:35.731727Z",
     "iopub.status.idle": "2021-07-05T20:36:13.765451Z",
     "shell.execute_reply": "2021-07-05T20:36:13.765035Z",
     "shell.execute_reply.started": "2021-07-05T20:35:35.731835Z"
    }
   },
   "outputs": [
    {
     "name": "stderr",
     "output_type": "stream",
     "text": [
      "100%|███████| 24/24 [00:12<00:00,  1.96it/s, accuracy=0.595, loss=1.38, stage=train]\n",
      "100%|████████| 12/12 [00:05<00:00,  2.37it/s, accuracy=0.73, loss=1.17, stage=valid]\n",
      "100%|███████| 24/24 [00:12<00:00,  1.91it/s, accuracy=0.729, loss=1.07, stage=train]\n",
      "100%|███████| 12/12 [00:05<00:00,  2.15it/s, accuracy=0.729, loss=1.02, stage=valid]\n"
     ]
    },
    {
     "data": {
      "image/png": "[encoded data removed]",
      "text/plain": [
       "<Figure size 432x288 with 1 Axes>"
      ]
     },
     "metadata": {
      "needs_background": "light"
     },
     "output_type": "display_data"
    }
   ],
   "source": [
    "EPOCHS = 2\n",
    "\n",
    "model.fit(\n",
    "    train_dataset,\n",
    "    valid_dataset=valid_dataset,\n",
    "    train_bs=TRAIN_BATCH_SIZE,\n",
    "    valid_bs=VALID_BATCH_SIZE,\n",
    "    device=\"cuda\",\n",
    "    epochs=EPOCHS,\n",
    "    callbacks=[grc, pl, tb],\n",
    "#     callbacks=[es, tb],\n",
    "    fp16=True,\n",
    ")"
   ]
  },
  {
   "cell_type": "code",
   "execution_count": null,
   "id": "regulation-excerpt",
   "metadata": {},
   "outputs": [],
   "source": []
  },
  {
   "cell_type": "code",
   "execution_count": null,
   "id": "valued-thermal",
   "metadata": {},
   "outputs": [],
   "source": []
  }
 ],
 "metadata": {
  "jupytext": {
   "cell_metadata_filter": "-all",
   "main_language": "python",
   "notebook_metadata_filter": "-all"
  },
  "kernelspec": {
   "display_name": "Python 3",
   "language": "python",
   "name": "python3"
  },
  "language_info": {
   "codemirror_mode": {
    "name": "ipython",
    "version": 3
   },
   "file_extension": ".py",
   "mimetype": "text/x-python",
   "name": "python",
   "nbconvert_exporter": "python",
   "pygments_lexer": "ipython3",
   "version": "3.9.5"
  }
 },
 "nbformat": 4,
 "nbformat_minor": 5
}
