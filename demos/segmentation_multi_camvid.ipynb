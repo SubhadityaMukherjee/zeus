{
 "cells": [
  {
   "cell_type": "markdown",
   "id": "suspended-cherry",
   "metadata": {},
   "source": [
    "# Imports"
   ]
  },
  {
   "cell_type": "code",
   "execution_count": 1,
   "id": "educational-whole",
   "metadata": {
    "execution": {
     "iopub.execute_input": "2021-07-12T10:27:39.020774Z",
     "iopub.status.busy": "2021-07-12T10:27:39.019665Z",
     "iopub.status.idle": "2021-07-12T10:27:39.040184Z",
     "shell.execute_reply": "2021-07-12T10:27:39.039328Z",
     "shell.execute_reply.started": "2021-07-12T10:27:39.020550Z"
    }
   },
   "outputs": [],
   "source": [
    "import argparse\n",
    "import os\n",
    "import sys\n",
    "sys.path.append(\"../\")\n",
    "os.environ['TORCH_HOME'] = \"/media/hdd/Datasets/\""
   ]
  },
  {
   "cell_type": "code",
   "execution_count": 2,
   "id": "pressing-pioneer",
   "metadata": {
    "execution": {
     "iopub.execute_input": "2021-07-12T10:27:39.042158Z",
     "iopub.status.busy": "2021-07-12T10:27:39.041869Z",
     "iopub.status.idle": "2021-07-12T10:27:40.410582Z",
     "shell.execute_reply": "2021-07-12T10:27:40.410081Z",
     "shell.execute_reply.started": "2021-07-12T10:27:39.042122Z"
    }
   },
   "outputs": [],
   "source": [
    "import glob\n",
    "import albumentations\n",
    "import pandas as pd\n",
    "import zeus\n",
    "import torch\n",
    "import torch.nn as nn\n",
    "from pathlib import Path\n",
    "from efficientnet_pytorch import EfficientNet\n",
    "from sklearn import metrics, model_selection, preprocessing\n",
    "from zeus.callbacks import EarlyStopping, TensorBoardLogger, GradientClipping, PlotLoss\n",
    "from zeus.metrics import LabelSmoothingCrossEntropy\n",
    "from zeus.datasets import ImageDataset\n",
    "from torch.nn import functional as F"
   ]
  },
  {
   "cell_type": "code",
   "execution_count": 3,
   "id": "several-fountain",
   "metadata": {
    "execution": {
     "iopub.execute_input": "2021-07-12T10:27:40.411753Z",
     "iopub.status.busy": "2021-07-12T10:27:40.411526Z",
     "iopub.status.idle": "2021-07-12T10:27:40.454261Z",
     "shell.execute_reply": "2021-07-12T10:27:40.453756Z",
     "shell.execute_reply.started": "2021-07-12T10:27:40.411713Z"
    }
   },
   "outputs": [],
   "source": [
    "from zeus.utils.model_helpers import *"
   ]
  },
  {
   "cell_type": "code",
   "execution_count": 4,
   "id": "continuing-bread",
   "metadata": {
    "execution": {
     "iopub.execute_input": "2021-07-12T10:27:40.455181Z",
     "iopub.status.busy": "2021-07-12T10:27:40.455028Z",
     "iopub.status.idle": "2021-07-12T10:27:40.457802Z",
     "shell.execute_reply": "2021-07-12T10:27:40.457256Z",
     "shell.execute_reply.started": "2021-07-12T10:27:40.455161Z"
    }
   },
   "outputs": [],
   "source": [
    "from PIL import Image\n",
    "from torch.utils.data import Dataset"
   ]
  },
  {
   "cell_type": "markdown",
   "id": "competent-collaboration",
   "metadata": {},
   "source": [
    "# Defining"
   ]
  },
  {
   "cell_type": "markdown",
   "id": "young-baptist",
   "metadata": {},
   "source": [
    "## Params"
   ]
  },
  {
   "cell_type": "code",
   "execution_count": 5,
   "id": "imported-contributor",
   "metadata": {
    "execution": {
     "iopub.execute_input": "2021-07-12T10:27:40.459001Z",
     "iopub.status.busy": "2021-07-12T10:27:40.458806Z",
     "iopub.status.idle": "2021-07-12T10:27:40.462034Z",
     "shell.execute_reply": "2021-07-12T10:27:40.461468Z",
     "shell.execute_reply.started": "2021-07-12T10:27:40.458982Z"
    }
   },
   "outputs": [],
   "source": [
    "INPUT_PATH = \"/media/hdd/Datasets/CamVid/\"\n",
    "MODEL_PATH = \"./models/\"\n",
    "MODEL_NAME = os.path.basename(\"seg.pt\")\n",
    "TRAIN_BATCH_SIZE = 8\n",
    "VALID_BATCH_SIZE = 140\n",
    "# IMAGE_SIZE = 192"
   ]
  },
  {
   "cell_type": "code",
   "execution_count": 6,
   "id": "coordinated-ghana",
   "metadata": {
    "execution": {
     "iopub.execute_input": "2021-07-12T10:27:40.463278Z",
     "iopub.status.busy": "2021-07-12T10:27:40.463039Z",
     "iopub.status.idle": "2021-07-12T10:27:40.472730Z",
     "shell.execute_reply": "2021-07-12T10:27:40.472235Z",
     "shell.execute_reply.started": "2021-07-12T10:27:40.463242Z"
    }
   },
   "outputs": [
    {
     "data": {
      "text/plain": [
       "32"
      ]
     },
     "execution_count": 6,
     "metadata": {},
     "output_type": "execute_result"
    }
   ],
   "source": [
    "map_path = INPUT_PATH+\"class_dict.csv\"\n",
    "map_dict = pd.read_csv(map_path); map_dict.head(1)\n",
    "map_dict[\"name\"].nunique()"
   ]
  },
  {
   "cell_type": "code",
   "execution_count": null,
   "id": "rotary-hierarchy",
   "metadata": {},
   "outputs": [],
   "source": []
  },
  {
   "cell_type": "markdown",
   "id": "aerial-cosmetic",
   "metadata": {},
   "source": [
    "## Label the data"
   ]
  },
  {
   "cell_type": "code",
   "execution_count": 7,
   "id": "altered-factor",
   "metadata": {
    "execution": {
     "iopub.execute_input": "2021-07-12T10:27:40.474566Z",
     "iopub.status.busy": "2021-07-12T10:27:40.474412Z",
     "iopub.status.idle": "2021-07-12T10:27:40.476970Z",
     "shell.execute_reply": "2021-07-12T10:27:40.476173Z",
     "shell.execute_reply.started": "2021-07-12T10:27:40.474546Z"
    }
   },
   "outputs": [],
   "source": []
  },
  {
   "cell_type": "code",
   "execution_count": 8,
   "id": "engaging-floor",
   "metadata": {
    "execution": {
     "iopub.execute_input": "2021-07-12T10:27:40.478551Z",
     "iopub.status.busy": "2021-07-12T10:27:40.478308Z",
     "iopub.status.idle": "2021-07-12T10:27:40.484549Z",
     "shell.execute_reply": "2021-07-12T10:27:40.484083Z",
     "shell.execute_reply.started": "2021-07-12T10:27:40.478525Z"
    }
   },
   "outputs": [],
   "source": [
    "class CamvidDataset(Dataset):\n",
    "    def __init__(self, image_dir, mask_dir, transform=None):\n",
    "        self.image_dir = image_dir\n",
    "        self.mask_dir = mask_dir\n",
    "        self.transform = transform\n",
    "        self.images = os.listdir(image_dir)\n",
    "\n",
    "    def __len__(self):\n",
    "        return len(self.images)\n",
    "\n",
    "    def __getitem__(self, index):\n",
    "        img_path = os.path.join(self.image_dir, self.images[index])\n",
    "        mask_path = os.path.join(self.mask_dir, self.images[index].replace(\".png\", \"_L.png\"))\n",
    "        image = np.array(Image.open(img_path).convert(\"RGB\"))\n",
    "        mask = np.array(Image.open(mask_path).convert(\"RGB\"))\n",
    "#         mask = np.array(Image.open(mask_path).convert(\"L\"), dtype=np.float32)\n",
    "#         mask[mask == 255.0] = 1.0\n",
    "\n",
    "        if self.transform is not None:\n",
    "            augmentations = self.transform(image=image, mask=mask)\n",
    "            image = augmentations[\"image\"]\n",
    "            mask = augmentations[\"mask\"]\n",
    "        \n",
    "        return {\"image\":image, \"targets\":mask.clone().detach()}"
   ]
  },
  {
   "cell_type": "code",
   "execution_count": 9,
   "id": "american-hotel",
   "metadata": {
    "execution": {
     "iopub.execute_input": "2021-07-12T10:27:40.485427Z",
     "iopub.status.busy": "2021-07-12T10:27:40.485274Z",
     "iopub.status.idle": "2021-07-12T10:27:40.492976Z",
     "shell.execute_reply": "2021-07-12T10:27:40.492392Z",
     "shell.execute_reply.started": "2021-07-12T10:27:40.485412Z"
    }
   },
   "outputs": [],
   "source": [
    "import torch\n",
    "import torch.nn as nn\n",
    "import torchvision.transforms.functional as TF\n",
    "\n",
    "class DoubleConv(nn.Module):\n",
    "    def __init__(self, in_channels, out_channels):\n",
    "        super(DoubleConv, self).__init__()\n",
    "        self.conv = nn.Sequential(\n",
    "            nn.Conv2d(in_channels, out_channels, 3, 1, 1, bias=False),\n",
    "            nn.BatchNorm2d(out_channels),\n",
    "            nn.ReLU(inplace=True),\n",
    "            nn.Conv2d(out_channels, out_channels, 3, 1, 1, bias=False),\n",
    "            nn.BatchNorm2d(out_channels),\n",
    "            nn.ReLU(inplace=True),\n",
    "        )\n",
    "\n",
    "    def forward(self, x):\n",
    "        return self.conv(x)\n",
    "\n",
    "class UNET(nn.Module):\n",
    "    def __init__(\n",
    "            self, in_channels=3, out_channels=1, features=[64, 128, 256, 512],\n",
    "    ):\n",
    "        super(UNET, self).__init__()\n",
    "        self.ups = nn.ModuleList()\n",
    "        self.downs = nn.ModuleList()\n",
    "        self.pool = nn.MaxPool2d(kernel_size=2, stride=2)\n",
    "\n",
    "        # Down part of UNET\n",
    "        for feature in features:\n",
    "            self.downs.append(DoubleConv(in_channels, feature))\n",
    "            in_channels = feature\n",
    "\n",
    "        # Up part of UNET\n",
    "        for feature in reversed(features):\n",
    "            self.ups.append(\n",
    "                nn.ConvTranspose2d(\n",
    "                    feature*2, feature, kernel_size=2, stride=2,\n",
    "                )\n",
    "            )\n",
    "            self.ups.append(DoubleConv(feature*2, feature))\n",
    "\n",
    "        self.bottleneck = DoubleConv(features[-1], features[-1]*2)\n",
    "        self.final_conv = nn.Conv2d(features[0], out_channels, kernel_size=1)\n",
    "\n",
    "    def forward(self, x):\n",
    "        skip_connections = []\n",
    "\n",
    "        for down in self.downs:\n",
    "            x = down(x)\n",
    "            skip_connections.append(x)\n",
    "            x = self.pool(x)\n",
    "\n",
    "        x = self.bottleneck(x)\n",
    "        skip_connections = skip_connections[::-1]\n",
    "\n",
    "        for idx in range(0, len(self.ups), 2):\n",
    "            x = self.ups[idx](x)\n",
    "            skip_connection = skip_connections[idx//2]\n",
    "\n",
    "            if x.shape != skip_connection.shape:\n",
    "                x = TF.resize(x, size=skip_connection.shape[2:])\n",
    "\n",
    "            concat_skip = torch.cat((skip_connection, x), dim=1)\n",
    "            x = self.ups[idx+1](concat_skip)\n",
    "\n",
    "        return self.final_conv(x)"
   ]
  },
  {
   "cell_type": "code",
   "execution_count": 10,
   "id": "enabling-funeral",
   "metadata": {
    "execution": {
     "iopub.execute_input": "2021-07-12T10:27:40.493902Z",
     "iopub.status.busy": "2021-07-12T10:27:40.493762Z",
     "iopub.status.idle": "2021-07-12T10:27:40.500482Z",
     "shell.execute_reply": "2021-07-12T10:27:40.499939Z",
     "shell.execute_reply.started": "2021-07-12T10:27:40.493887Z"
    }
   },
   "outputs": [],
   "source": [
    "from os.path import isfile, join\n",
    "from zeus.metrics import dice\n",
    "\n",
    "# class BCELoss2d(nn.Module):\n",
    "#     \"\"\"\n",
    "#     Code taken from:\n",
    "#     https://www.kaggle.com/c/carvana-image-masking-challenge/discussion/37208\n",
    "#     \"\"\"\n",
    "\n",
    "#     def __init__(self, weight=None, size_average=True):\n",
    "#         super(BCELoss2d, self).__init__()\n",
    "#         self.bce_loss = nn.BCELoss(weight, size_average)\n",
    "\n",
    "#     def forward(self, logits, targets):\n",
    "#         probs = F.sigmoid(logits)\n",
    "#         probs_flat = probs.view(-1)\n",
    "#         targets_flat = targets.view(-1)\n",
    "#         return self.bce_loss(probs_flat, targets_flat)\n",
    "\n",
    "class Model(zeus.Model):\n",
    "    def __init__(self, n_classes):\n",
    "        super().__init__()\n",
    "\n",
    "        self.model = UNET(3, n_classes).cuda()\n",
    "\n",
    "#     def monitor_metrics(self, outputs, targets):\n",
    "# #         accuracy = dice(targets, outputs)\n",
    "# #         return {\"dice_score\": float(accuracy)}\n",
    "#         return {\"dice_score\": 0.0}\n",
    "    def monitor_metrics(self,outloss):\n",
    "        return {\"epoch\" : self.current_epoch, \"ce_loss\":float(outloss)}\n",
    "\n",
    "    def fetch_optimizer(self):\n",
    "        opt = torch.optim.AdamW(self.parameters(), lr=1e-4)\n",
    "        return opt\n",
    "\n",
    "    def forward(self, image, targets=None):\n",
    "        batch_size, _, _, _ = image.shape\n",
    "        outputs = self.model(image)\n",
    "\n",
    "        if targets is not None:\n",
    "            targets = targets.long()\n",
    "            targets = torch.argmax(targets, dim=3).long()\n",
    "#             print(outputs.shape, targets.shape)\n",
    "#             targets = targets.float().unsqueeze(1)\n",
    "#             loss = nn.BCEWithLogitsLoss()(outputs, targets)\n",
    "            loss = nn.CrossEntropyLoss()(outputs, targets)\n",
    "            metrics = self.monitor_metrics(loss)\n",
    "            return outputs, loss, metrics\n",
    "        return outputs, 0, {}"
   ]
  },
  {
   "cell_type": "code",
   "execution_count": 11,
   "id": "fitting-soundtrack",
   "metadata": {
    "execution": {
     "iopub.execute_input": "2021-07-12T10:27:40.501601Z",
     "iopub.status.busy": "2021-07-12T10:27:40.501434Z",
     "iopub.status.idle": "2021-07-12T10:27:40.505988Z",
     "shell.execute_reply": "2021-07-12T10:27:40.505626Z",
     "shell.execute_reply.started": "2021-07-12T10:27:40.501586Z"
    }
   },
   "outputs": [],
   "source": [
    "from albumentations.pytorch import ToTensorV2\n",
    "train_aug = albumentations.Compose(\n",
    "    [\n",
    "        albumentations.Resize(160,240),\n",
    "        albumentations.HorizontalFlip(p=0.5),\n",
    "        albumentations.VerticalFlip(p=0.5),\n",
    "        albumentations.Normalize(\n",
    "            mean=[0.485, 0.456, 0.406],\n",
    "            std=[0.229, 0.224, 0.225],\n",
    "            max_pixel_value=255.0,\n",
    "            p=1.0,\n",
    "        ),\n",
    "        ToTensorV2(),\n",
    "    ],\n",
    "    p=1.0,\n",
    ")\n",
    "\n",
    "valid_aug = albumentations.Compose(\n",
    "    [\n",
    "        albumentations.Resize(160,240),\n",
    "        albumentations.Normalize(\n",
    "            mean=[0.485, 0.456, 0.406],\n",
    "            std=[0.229, 0.224, 0.225],\n",
    "            max_pixel_value=255.0,\n",
    "            p=1.0,\n",
    "        ),\n",
    "        ToTensorV2(),\n",
    "    ],\n",
    "    p=1.0,\n",
    ")"
   ]
  },
  {
   "cell_type": "markdown",
   "id": "running-electricity",
   "metadata": {},
   "source": [
    "## Data pre process"
   ]
  },
  {
   "cell_type": "markdown",
   "id": "fundamental-bloom",
   "metadata": {},
   "source": [
    "## Training"
   ]
  },
  {
   "cell_type": "code",
   "execution_count": 12,
   "id": "acceptable-depression",
   "metadata": {
    "execution": {
     "iopub.execute_input": "2021-07-12T10:27:40.506665Z",
     "iopub.status.busy": "2021-07-12T10:27:40.506541Z",
     "iopub.status.idle": "2021-07-12T10:27:40.509280Z",
     "shell.execute_reply": "2021-07-12T10:27:40.508800Z",
     "shell.execute_reply.started": "2021-07-12T10:27:40.506652Z"
    }
   },
   "outputs": [],
   "source": [
    "from torchvision import transforms\n",
    "from torch.utils.data import DataLoader\n",
    "train_ds = CamvidDataset(\n",
    "        image_dir=\"/media/hdd/Datasets/CamVid/train/\",\n",
    "        mask_dir=\"/media/hdd/Datasets/CamVid/train_labels/\",\n",
    "        transform=train_aug,\n",
    "    )\n",
    "valid_ds = CamvidDataset(\n",
    "        image_dir=\"/media/hdd/Datasets/CamVid/val/\",\n",
    "        mask_dir=\"/media/hdd/Datasets/CamVid/val_labels/\",\n",
    "        transform=valid_aug,\n",
    "    )"
   ]
  },
  {
   "cell_type": "markdown",
   "id": "liked-oracle",
   "metadata": {},
   "source": [
    "## Callbacks"
   ]
  },
  {
   "cell_type": "code",
   "execution_count": 13,
   "id": "hawaiian-bunny",
   "metadata": {
    "execution": {
     "iopub.execute_input": "2021-07-12T10:27:40.510229Z",
     "iopub.status.busy": "2021-07-12T10:27:40.510075Z",
     "iopub.status.idle": "2021-07-12T10:27:43.102466Z",
     "shell.execute_reply": "2021-07-12T10:27:43.102028Z",
     "shell.execute_reply.started": "2021-07-12T10:27:40.510196Z"
    }
   },
   "outputs": [],
   "source": [
    "model = Model(32)\n",
    "\n",
    "es = EarlyStopping(\n",
    "    monitor=\"valid_loss\",\n",
    "    model_path=os.path.join(MODEL_PATH, MODEL_NAME + \".bin\"),\n",
    "    patience=3,\n",
    "    mode=\"min\",\n",
    ")\n",
    "\n",
    "tb = TensorBoardLogger()\n",
    "grc = GradientClipping(5)\n",
    "pl = PlotLoss(10)"
   ]
  },
  {
   "cell_type": "code",
   "execution_count": 14,
   "id": "outer-facial",
   "metadata": {
    "execution": {
     "iopub.execute_input": "2021-07-12T10:27:43.116611Z",
     "iopub.status.busy": "2021-07-12T10:27:43.116465Z",
     "iopub.status.idle": "2021-07-12T10:27:43.120138Z",
     "shell.execute_reply": "2021-07-12T10:27:43.119712Z",
     "shell.execute_reply.started": "2021-07-12T10:27:43.116595Z"
    }
   },
   "outputs": [
    {
     "name": "stdout",
     "output_type": "stream",
     "text": [
      "Total Trainable Params: 31039648\n"
     ]
    },
    {
     "data": {
      "text/plain": [
       "31039648"
      ]
     },
     "execution_count": 14,
     "metadata": {},
     "output_type": "execute_result"
    }
   ],
   "source": [
    "count_parameters(model, showtable=False)"
   ]
  },
  {
   "cell_type": "code",
   "execution_count": 21,
   "id": "small-airport",
   "metadata": {
    "collapsed": true,
    "execution": {
     "iopub.execute_input": "2021-07-12T10:06:22.708718Z",
     "iopub.status.busy": "2021-07-12T10:06:22.708145Z",
     "iopub.status.idle": "2021-07-12T10:13:59.293128Z",
     "shell.execute_reply": "2021-07-12T10:13:59.292782Z",
     "shell.execute_reply.started": "2021-07-12T10:06:22.708654Z"
    },
    "jupyter": {
     "outputs_hidden": true
    }
   },
   "outputs": [
    {
     "name": "stderr",
     "output_type": "stream",
     "text": [
      "100%|█████████████████████████████████████████████████████████████████████████████████████████| 47/47 [00:13<00:00,  3.53it/s, ce_loss=3.1, epoch=0, loss=3.1, stage=train]\n",
      "100%|███████████████████████████████████████████████████████████████████████████████████████| 13/13 [00:01<00:00,  8.33it/s, ce_loss=3.06, epoch=0, loss=3.06, stage=valid]\n",
      "100%|███████████████████████████████████████████████████████████████████████████████████████| 47/47 [00:13<00:00,  3.53it/s, ce_loss=2.56, epoch=1, loss=2.56, stage=train]\n",
      "100%|███████████████████████████████████████████████████████████████████████████████████████| 13/13 [00:01<00:00,  7.97it/s, ce_loss=2.31, epoch=1, loss=2.31, stage=valid]\n",
      "100%|███████████████████████████████████████████████████████████████████████████████████████| 47/47 [00:13<00:00,  3.49it/s, ce_loss=2.29, epoch=2, loss=2.29, stage=train]\n",
      "100%|███████████████████████████████████████████████████████████████████████████████████████| 13/13 [00:01<00:00,  7.89it/s, ce_loss=2.09, epoch=2, loss=2.09, stage=valid]\n",
      "100%|███████████████████████████████████████████████████████████████████████████████████████| 47/47 [00:13<00:00,  3.48it/s, ce_loss=2.08, epoch=3, loss=2.08, stage=train]\n",
      "100%|███████████████████████████████████████████████████████████████████████████████████████| 13/13 [00:01<00:00,  7.92it/s, ce_loss=2.02, epoch=3, loss=2.02, stage=valid]\n",
      "100%|███████████████████████████████████████████████████████████████████████████████████████| 47/47 [00:13<00:00,  3.48it/s, ce_loss=1.87, epoch=4, loss=1.87, stage=train]\n",
      "100%|███████████████████████████████████████████████████████████████████████████████████████| 13/13 [00:01<00:00,  7.99it/s, ce_loss=1.77, epoch=4, loss=1.77, stage=valid]\n",
      "100%|█████████████████████████████████████████████████████████████████████████████████████████| 47/47 [00:13<00:00,  3.48it/s, ce_loss=1.7, epoch=5, loss=1.7, stage=train]\n",
      "100%|███████████████████████████████████████████████████████████████████████████████████████| 13/13 [00:01<00:00,  7.93it/s, ce_loss=1.56, epoch=5, loss=1.56, stage=valid]\n",
      "100%|███████████████████████████████████████████████████████████████████████████████████████| 47/47 [00:13<00:00,  3.46it/s, ce_loss=1.53, epoch=6, loss=1.53, stage=train]\n",
      "100%|███████████████████████████████████████████████████████████████████████████████████████| 13/13 [00:01<00:00,  8.29it/s, ce_loss=1.52, epoch=6, loss=1.52, stage=valid]\n",
      "100%|███████████████████████████████████████████████████████████████████████████████████████| 47/47 [00:13<00:00,  3.44it/s, ce_loss=1.36, epoch=7, loss=1.36, stage=train]\n",
      "100%|███████████████████████████████████████████████████████████████████████████████████████| 13/13 [00:01<00:00,  7.83it/s, ce_loss=1.27, epoch=7, loss=1.27, stage=valid]\n",
      "100%|███████████████████████████████████████████████████████████████████████████████████████| 47/47 [00:13<00:00,  3.44it/s, ce_loss=1.22, epoch=8, loss=1.22, stage=train]\n",
      "100%|███████████████████████████████████████████████████████████████████████████████████████| 13/13 [00:01<00:00,  8.13it/s, ce_loss=1.18, epoch=8, loss=1.18, stage=valid]\n",
      "100%|█████████████████████████████████████████████████████████████████████████████████████████| 47/47 [00:13<00:00,  3.45it/s, ce_loss=1.1, epoch=9, loss=1.1, stage=train]\n",
      "100%|███████████████████████████████████████████████████████████████████████████████████████| 13/13 [00:01<00:00,  8.03it/s, ce_loss=1.03, epoch=9, loss=1.03, stage=valid]\n"
     ]
    },
    {
     "data": {
      "image/png": "[encoded data removed]",
      "text/plain": [
       "<Figure size 432x288 with 1 Axes>"
      ]
     },
     "metadata": {
      "needs_background": "light"
     },
     "output_type": "display_data"
    },
    {
     "name": "stderr",
     "output_type": "stream",
     "text": [
      "100%|████████████████████████████████████████████████████████████████████████████████████| 47/47 [00:13<00:00,  3.45it/s, ce_loss=0.958, epoch=10, loss=0.958, stage=train]\n",
      "100%|████████████████████████████████████████████████████████████████████████████████████| 13/13 [00:01<00:00,  8.37it/s, ce_loss=0.956, epoch=10, loss=0.956, stage=valid]\n",
      "100%|████████████████████████████████████████████████████████████████████████████████████| 47/47 [00:13<00:00,  3.46it/s, ce_loss=0.858, epoch=11, loss=0.858, stage=train]\n",
      "100%|████████████████████████████████████████████████████████████████████████████████████| 13/13 [00:01<00:00,  8.25it/s, ce_loss=0.869, epoch=11, loss=0.869, stage=valid]\n",
      "100%|████████████████████████████████████████████████████████████████████████████████████| 47/47 [00:13<00:00,  3.46it/s, ce_loss=0.763, epoch=12, loss=0.763, stage=train]\n",
      "100%|████████████████████████████████████████████████████████████████████████████████████| 13/13 [00:01<00:00,  7.84it/s, ce_loss=0.743, epoch=12, loss=0.743, stage=valid]\n",
      "100%|████████████████████████████████████████████████████████████████████████████████████| 47/47 [00:13<00:00,  3.43it/s, ce_loss=0.672, epoch=13, loss=0.672, stage=train]\n",
      "100%|████████████████████████████████████████████████████████████████████████████████████| 13/13 [00:01<00:00,  8.38it/s, ce_loss=0.623, epoch=13, loss=0.623, stage=valid]\n",
      "100%|████████████████████████████████████████████████████████████████████████████████████| 47/47 [00:13<00:00,  3.44it/s, ce_loss=0.601, epoch=14, loss=0.601, stage=train]\n",
      "100%|██████████████████████████████████████████████████████████████████████████████████████| 13/13 [00:01<00:00,  7.79it/s, ce_loss=0.57, epoch=14, loss=0.57, stage=valid]\n",
      "100%|██████████████████████████████████████████████████████████████████████████████████████| 47/47 [00:13<00:00,  3.42it/s, ce_loss=0.55, epoch=15, loss=0.55, stage=train]\n",
      "100%|████████████████████████████████████████████████████████████████████████████████████| 13/13 [00:01<00:00,  8.26it/s, ce_loss=0.532, epoch=15, loss=0.532, stage=valid]\n",
      "100%|████████████████████████████████████████████████████████████████████████████████████| 47/47 [00:13<00:00,  3.43it/s, ce_loss=0.501, epoch=16, loss=0.501, stage=train]\n",
      "100%|████████████████████████████████████████████████████████████████████████████████████| 13/13 [00:01<00:00,  8.17it/s, ce_loss=0.472, epoch=16, loss=0.472, stage=valid]\n",
      "100%|████████████████████████████████████████████████████████████████████████████████████| 47/47 [00:13<00:00,  3.42it/s, ce_loss=0.449, epoch=17, loss=0.449, stage=train]\n",
      "100%|████████████████████████████████████████████████████████████████████████████████████| 13/13 [00:01<00:00,  8.14it/s, ce_loss=0.418, epoch=17, loss=0.418, stage=valid]\n",
      "100%|████████████████████████████████████████████████████████████████████████████████████| 47/47 [00:13<00:00,  3.43it/s, ce_loss=0.412, epoch=18, loss=0.412, stage=train]\n",
      "100%|████████████████████████████████████████████████████████████████████████████████████| 13/13 [00:01<00:00,  8.16it/s, ce_loss=0.405, epoch=18, loss=0.405, stage=valid]\n",
      "100%|████████████████████████████████████████████████████████████████████████████████████| 47/47 [00:13<00:00,  3.43it/s, ce_loss=0.368, epoch=19, loss=0.368, stage=train]\n",
      "100%|████████████████████████████████████████████████████████████████████████████████████| 13/13 [00:01<00:00,  8.43it/s, ce_loss=0.363, epoch=19, loss=0.363, stage=valid]\n"
     ]
    },
    {
     "data": {
      "image/png": "[encoded data removed]",
      "text/plain": [
       "<Figure size 432x288 with 1 Axes>"
      ]
     },
     "metadata": {
      "needs_background": "light"
     },
     "output_type": "display_data"
    },
    {
     "name": "stderr",
     "output_type": "stream",
     "text": [
      "100%|████████████████████████████████████████████████████████████████████████████████████| 47/47 [00:13<00:00,  3.46it/s, ce_loss=0.347, epoch=20, loss=0.347, stage=train]\n",
      "100%|████████████████████████████████████████████████████████████████████████████████████| 13/13 [00:01<00:00,  8.22it/s, ce_loss=0.358, epoch=20, loss=0.358, stage=valid]\n",
      "100%|████████████████████████████████████████████████████████████████████████████████████| 47/47 [00:13<00:00,  3.45it/s, ce_loss=0.319, epoch=21, loss=0.319, stage=train]\n",
      "100%|████████████████████████████████████████████████████████████████████████████████████| 13/13 [00:01<00:00,  8.22it/s, ce_loss=0.323, epoch=21, loss=0.323, stage=valid]\n",
      "100%|████████████████████████████████████████████████████████████████████████████████████| 47/47 [00:13<00:00,  3.43it/s, ce_loss=0.321, epoch=22, loss=0.321, stage=train]\n",
      "100%|████████████████████████████████████████████████████████████████████████████████████| 13/13 [00:01<00:00,  7.77it/s, ce_loss=0.302, epoch=22, loss=0.302, stage=valid]\n",
      "100%|████████████████████████████████████████████████████████████████████████████████████| 47/47 [00:13<00:00,  3.46it/s, ce_loss=0.283, epoch=23, loss=0.283, stage=train]\n",
      "100%|████████████████████████████████████████████████████████████████████████████████████| 13/13 [00:01<00:00,  7.96it/s, ce_loss=0.281, epoch=23, loss=0.281, stage=valid]\n",
      "100%|████████████████████████████████████████████████████████████████████████████████████| 47/47 [00:13<00:00,  3.46it/s, ce_loss=0.275, epoch=24, loss=0.275, stage=train]\n",
      "100%|██████████████████████████████████████████████████████████████████████████████████████| 13/13 [00:01<00:00,  8.42it/s, ce_loss=0.28, epoch=24, loss=0.28, stage=valid]\n",
      "100%|████████████████████████████████████████████████████████████████████████████████████| 47/47 [00:13<00:00,  3.46it/s, ce_loss=0.268, epoch=25, loss=0.268, stage=train]\n",
      "100%|████████████████████████████████████████████████████████████████████████████████████| 13/13 [00:01<00:00,  7.79it/s, ce_loss=0.291, epoch=25, loss=0.291, stage=valid]\n",
      "100%|████████████████████████████████████████████████████████████████████████████████████| 47/47 [00:13<00:00,  3.43it/s, ce_loss=0.281, epoch=26, loss=0.281, stage=train]\n",
      "100%|████████████████████████████████████████████████████████████████████████████████████| 13/13 [00:01<00:00,  8.44it/s, ce_loss=0.263, epoch=26, loss=0.263, stage=valid]\n",
      "100%|████████████████████████████████████████████████████████████████████████████████████| 47/47 [00:13<00:00,  3.46it/s, ce_loss=0.238, epoch=27, loss=0.238, stage=train]\n",
      "100%|████████████████████████████████████████████████████████████████████████████████████| 13/13 [00:01<00:00,  8.30it/s, ce_loss=0.252, epoch=27, loss=0.252, stage=valid]\n",
      "100%|████████████████████████████████████████████████████████████████████████████████████| 47/47 [00:13<00:00,  3.46it/s, ce_loss=0.223, epoch=28, loss=0.223, stage=train]\n",
      "100%|████████████████████████████████████████████████████████████████████████████████████| 13/13 [00:01<00:00,  8.37it/s, ce_loss=0.234, epoch=28, loss=0.234, stage=valid]\n",
      "100%|████████████████████████████████████████████████████████████████████████████████████| 47/47 [00:13<00:00,  3.43it/s, ce_loss=0.215, epoch=29, loss=0.215, stage=train]\n",
      "100%|████████████████████████████████████████████████████████████████████████████████████| 13/13 [00:01<00:00,  8.19it/s, ce_loss=0.225, epoch=29, loss=0.225, stage=valid]\n"
     ]
    },
    {
     "data": {
      "image/png": "[encoded data removed]",
      "text/plain": [
       "<Figure size 432x288 with 1 Axes>"
      ]
     },
     "metadata": {
      "needs_background": "light"
     },
     "output_type": "display_data"
    }
   ],
   "source": [
    "EPOCHS = 30\n",
    "\n",
    "model.fit(\n",
    "    train_ds,\n",
    "    valid_dataset=valid_ds,\n",
    "    train_bs=TRAIN_BATCH_SIZE,\n",
    "    valid_bs=TRAIN_BATCH_SIZE,\n",
    "    device=\"cuda\",\n",
    "    epochs=EPOCHS,\n",
    "    callbacks=[grc, pl, tb],\n",
    "    fp16=False,\n",
    ")"
   ]
  },
  {
   "cell_type": "code",
   "execution_count": 27,
   "id": "cellular-speech",
   "metadata": {
    "execution": {
     "iopub.execute_input": "2021-07-12T10:26:41.076742Z",
     "iopub.status.busy": "2021-07-12T10:26:41.076592Z",
     "iopub.status.idle": "2021-07-12T10:26:41.662310Z",
     "shell.execute_reply": "2021-07-12T10:26:41.661198Z",
     "shell.execute_reply.started": "2021-07-12T10:26:41.076725Z"
    }
   },
   "outputs": [],
   "source": [
    "model.save(Path(MODEL_PATH)/MODEL_NAME)"
   ]
  },
  {
   "cell_type": "markdown",
   "id": "neutral-playing",
   "metadata": {},
   "source": [
    "# Preds"
   ]
  },
  {
   "cell_type": "code",
   "execution_count": 15,
   "id": "occupied-edgar",
   "metadata": {
    "execution": {
     "iopub.execute_input": "2021-07-12T10:27:57.137467Z",
     "iopub.status.busy": "2021-07-12T10:27:57.136930Z",
     "iopub.status.idle": "2021-07-12T10:27:57.308262Z",
     "shell.execute_reply": "2021-07-12T10:27:57.307887Z",
     "shell.execute_reply.started": "2021-07-12T10:27:57.137405Z"
    }
   },
   "outputs": [],
   "source": [
    "mod = model.load(Path(MODEL_PATH)/MODEL_NAME)"
   ]
  },
  {
   "cell_type": "code",
   "execution_count": 16,
   "id": "lyric-occasions",
   "metadata": {
    "execution": {
     "iopub.execute_input": "2021-07-12T10:28:01.093348Z",
     "iopub.status.busy": "2021-07-12T10:28:01.093131Z",
     "iopub.status.idle": "2021-07-12T10:28:01.122333Z",
     "shell.execute_reply": "2021-07-12T10:28:01.121996Z",
     "shell.execute_reply.started": "2021-07-12T10:28:01.093325Z"
    }
   },
   "outputs": [
    {
     "data": {
      "text/plain": [
       "torch.Size([1, 3, 720, 960])"
      ]
     },
     "execution_count": 16,
     "metadata": {},
     "output_type": "execute_result"
    }
   ],
   "source": [
    "tes =np.array(Image.open(\"/media/hdd/Datasets/CamVid/val/0001TP_009030.png\"))\n",
    "tes = torch.tensor(tes).unsqueeze(0)\n",
    "tes = torch.einsum('bhwc->bchw',tes)\n",
    "tes.shape"
   ]
  },
  {
   "cell_type": "code",
   "execution_count": 17,
   "id": "temporal-terminology",
   "metadata": {
    "execution": {
     "iopub.execute_input": "2021-07-12T10:28:08.747119Z",
     "iopub.status.busy": "2021-07-12T10:28:08.746952Z",
     "iopub.status.idle": "2021-07-12T10:28:08.776433Z",
     "shell.execute_reply": "2021-07-12T10:28:08.775917Z",
     "shell.execute_reply.started": "2021-07-12T10:28:08.747101Z"
    }
   },
   "outputs": [],
   "source": [
    "mo = model.model\n",
    "mo.eval()\n",
    "test_output = mo(tes.float().cuda())"
   ]
  },
  {
   "cell_type": "code",
   "execution_count": 32,
   "id": "worldwide-pickup",
   "metadata": {
    "execution": {
     "iopub.execute_input": "2021-07-12T10:31:07.980518Z",
     "iopub.status.busy": "2021-07-12T10:31:07.980373Z",
     "iopub.status.idle": "2021-07-12T10:31:07.983395Z",
     "shell.execute_reply": "2021-07-12T10:31:07.983086Z",
     "shell.execute_reply.started": "2021-07-12T10:31:07.980503Z"
    }
   },
   "outputs": [
    {
     "data": {
      "text/plain": [
       "torch.Size([720, 960, 32])"
      ]
     },
     "execution_count": 32,
     "metadata": {},
     "output_type": "execute_result"
    }
   ],
   "source": [
    "test_output = torch.einsum('bchw->hwc',test_output)\n",
    "test_output.shape"
   ]
  },
  {
   "cell_type": "code",
   "execution_count": 33,
   "id": "crude-uniform",
   "metadata": {
    "execution": {
     "iopub.execute_input": "2021-07-12T10:31:10.354639Z",
     "iopub.status.busy": "2021-07-12T10:31:10.354495Z",
     "iopub.status.idle": "2021-07-12T10:31:10.407621Z",
     "shell.execute_reply": "2021-07-12T10:31:10.407192Z",
     "shell.execute_reply.started": "2021-07-12T10:31:10.354624Z"
    }
   },
   "outputs": [],
   "source": [
    "tes_np = np.array(test_output.detach().cpu())"
   ]
  },
  {
   "cell_type": "code",
   "execution_count": 34,
   "id": "treated-tucson",
   "metadata": {
    "execution": {
     "iopub.execute_input": "2021-07-12T10:31:11.030315Z",
     "iopub.status.busy": "2021-07-12T10:31:11.029777Z",
     "iopub.status.idle": "2021-07-12T10:31:11.039680Z",
     "shell.execute_reply": "2021-07-12T10:31:11.037616Z",
     "shell.execute_reply.started": "2021-07-12T10:31:11.030253Z"
    }
   },
   "outputs": [
    {
     "data": {
      "text/plain": [
       "(720, 960, 32)"
      ]
     },
     "execution_count": 34,
     "metadata": {},
     "output_type": "execute_result"
    }
   ],
   "source": [
    "tes_np.shape"
   ]
  },
  {
   "cell_type": "code",
   "execution_count": 42,
   "id": "naked-bundle",
   "metadata": {
    "execution": {
     "iopub.execute_input": "2021-07-12T10:38:27.650421Z",
     "iopub.status.busy": "2021-07-12T10:38:27.649876Z",
     "iopub.status.idle": "2021-07-12T10:38:27.660150Z",
     "shell.execute_reply": "2021-07-12T10:38:27.658889Z",
     "shell.execute_reply.started": "2021-07-12T10:38:27.650357Z"
    }
   },
   "outputs": [
    {
     "data": {
      "text/plain": [
       "array([[-5.588546 , -7.94691  , -6.858595 , ..., -6.415303 , -5.9916525,\n",
       "        -0.7351766],\n",
       "       [-7.8356924, -8.306384 , -5.2875543, ..., -4.8197813,  4.188528 ,\n",
       "         4.1299067],\n",
       "       [-8.229677 , -8.994326 , -4.9207425, ..., -2.2999282, 11.444969 ,\n",
       "         6.1160836],\n",
       "       ...,\n",
       "       [-1.6127683, -1.6017292, -1.6460749, ..., -2.8616595, -2.2277963,\n",
       "        -2.186717 ],\n",
       "       [-1.4812593, -1.6607118, -1.5190713, ..., -2.6110816, -1.1935558,\n",
       "        -1.348736 ],\n",
       "       [-1.2042295, -1.1900505, -1.3941761, ..., -2.19895  , -1.4170023,\n",
       "        -1.6202601]], dtype=float32)"
      ]
     },
     "execution_count": 42,
     "metadata": {},
     "output_type": "execute_result"
    }
   ],
   "source": [
    "tes_np[:,:,1]"
   ]
  },
  {
   "cell_type": "code",
   "execution_count": 154,
   "id": "specialized-kansas",
   "metadata": {
    "execution": {
     "iopub.execute_input": "2021-07-12T11:12:23.226102Z",
     "iopub.status.busy": "2021-07-12T11:12:23.225553Z",
     "iopub.status.idle": "2021-07-12T11:12:23.248918Z",
     "shell.execute_reply": "2021-07-12T11:12:23.248433Z",
     "shell.execute_reply.started": "2021-07-12T11:12:23.226038Z"
    }
   },
   "outputs": [],
   "source": [
    "im = pil_from_tensor(test_output[:,:,1])\n",
    "im = np.array(im.convert(\"RGB\"))\n"
   ]
  },
  {
   "cell_type": "markdown",
   "id": "essential-thirty",
   "metadata": {},
   "source": [
    "# Testing imae encodings"
   ]
  },
  {
   "cell_type": "code",
   "execution_count": 201,
   "id": "liable-occurrence",
   "metadata": {
    "execution": {
     "iopub.execute_input": "2021-07-12T11:27:21.618950Z",
     "iopub.status.busy": "2021-07-12T11:27:21.618740Z",
     "iopub.status.idle": "2021-07-12T11:27:21.623894Z",
     "shell.execute_reply": "2021-07-12T11:27:21.623335Z",
     "shell.execute_reply.started": "2021-07-12T11:27:21.618927Z"
    }
   },
   "outputs": [],
   "source": [
    "map_dict[\"name\"] = map_dict[\"name\"].astype(\"category\")\n",
    "\n",
    "map_dict[\"label\"]=map_dict[\"name\"].cat.codes\n",
    "map_dict[\"value\"] = map_dict[[\"r\",\"g\",\"b\"]].values.tolist()\n",
    "\n",
    "ts = \"/media/hdd/Datasets/CamVid/test_labels/0001TP_006690_L.png\""
   ]
  },
  {
   "cell_type": "code",
   "execution_count": 202,
   "id": "fitted-target",
   "metadata": {
    "execution": {
     "iopub.execute_input": "2021-07-12T11:27:24.117242Z",
     "iopub.status.busy": "2021-07-12T11:27:24.117038Z",
     "iopub.status.idle": "2021-07-12T11:27:24.127767Z",
     "shell.execute_reply": "2021-07-12T11:27:24.127285Z",
     "shell.execute_reply.started": "2021-07-12T11:27:24.117219Z"
    }
   },
   "outputs": [],
   "source": [
    "test_im = np.array(Image.open(ts))"
   ]
  },
  {
   "cell_type": "code",
   "execution_count": 205,
   "id": "ordered-jersey",
   "metadata": {
    "execution": {
     "iopub.execute_input": "2021-07-12T11:27:56.468932Z",
     "iopub.status.busy": "2021-07-12T11:27:56.468362Z",
     "iopub.status.idle": "2021-07-12T11:27:56.477369Z",
     "shell.execute_reply": "2021-07-12T11:27:56.476898Z",
     "shell.execute_reply.started": "2021-07-12T11:27:56.468868Z"
    }
   },
   "outputs": [
    {
     "data": {
      "text/html": [
       "<div>\n",
       "<style scoped>\n",
       "    .dataframe tbody tr th:only-of-type {\n",
       "        vertical-align: middle;\n",
       "    }\n",
       "\n",
       "    .dataframe tbody tr th {\n",
       "        vertical-align: top;\n",
       "    }\n",
       "\n",
       "    .dataframe thead th {\n",
       "        text-align: right;\n",
       "    }\n",
       "</style>\n",
       "<table border=\"1\" class=\"dataframe\">\n",
       "  <thead>\n",
       "    <tr style=\"text-align: right;\">\n",
       "      <th></th>\n",
       "      <th>value</th>\n",
       "      <th>label</th>\n",
       "    </tr>\n",
       "  </thead>\n",
       "  <tbody>\n",
       "    <tr>\n",
       "      <th>0</th>\n",
       "      <td>[64, 128, 64]</td>\n",
       "      <td>0</td>\n",
       "    </tr>\n",
       "    <tr>\n",
       "      <th>1</th>\n",
       "      <td>[192, 0, 128]</td>\n",
       "      <td>1</td>\n",
       "    </tr>\n",
       "    <tr>\n",
       "      <th>2</th>\n",
       "      <td>[0, 128, 192]</td>\n",
       "      <td>2</td>\n",
       "    </tr>\n",
       "    <tr>\n",
       "      <th>3</th>\n",
       "      <td>[0, 128, 64]</td>\n",
       "      <td>3</td>\n",
       "    </tr>\n",
       "    <tr>\n",
       "      <th>4</th>\n",
       "      <td>[128, 0, 0]</td>\n",
       "      <td>4</td>\n",
       "    </tr>\n",
       "  </tbody>\n",
       "</table>\n",
       "</div>"
      ],
      "text/plain": [
       "           value  label\n",
       "0  [64, 128, 64]      0\n",
       "1  [192, 0, 128]      1\n",
       "2  [0, 128, 192]      2\n",
       "3   [0, 128, 64]      3\n",
       "4    [128, 0, 0]      4"
      ]
     },
     "execution_count": 205,
     "metadata": {},
     "output_type": "execute_result"
    }
   ],
   "source": [
    "# test_label = map_dict.head(100) \n",
    "test_label = map_dict[[\"value\",\"label\"]]; test_label.head()"
   ]
  },
  {
   "cell_type": "code",
   "execution_count": 211,
   "id": "careful-colon",
   "metadata": {
    "execution": {
     "iopub.execute_input": "2021-07-12T11:28:27.826691Z",
     "iopub.status.busy": "2021-07-12T11:28:27.826523Z",
     "iopub.status.idle": "2021-07-12T11:28:27.829386Z",
     "shell.execute_reply": "2021-07-12T11:28:27.828870Z",
     "shell.execute_reply.started": "2021-07-12T11:28:27.826663Z"
    }
   },
   "outputs": [],
   "source": [
    "mapping_f = {str(x[\"value\"]).replace(\",\",''):x[\"label\"] for x in test_label.to_dict(orient=\"records\")}"
   ]
  },
  {
   "cell_type": "code",
   "execution_count": 215,
   "id": "healthy-ireland",
   "metadata": {
    "execution": {
     "iopub.execute_input": "2021-07-12T11:29:11.804199Z",
     "iopub.status.busy": "2021-07-12T11:29:11.803670Z",
     "iopub.status.idle": "2021-07-12T11:29:11.809096Z",
     "shell.execute_reply": "2021-07-12T11:29:11.808377Z",
     "shell.execute_reply.started": "2021-07-12T11:29:11.804138Z"
    }
   },
   "outputs": [
    {
     "data": {
      "text/plain": [
       "'[128   0   0]'"
      ]
     },
     "execution_count": 215,
     "metadata": {},
     "output_type": "execute_result"
    }
   ],
   "source": [
    "str(test_im[0,0,:])"
   ]
  },
  {
   "cell_type": "code",
   "execution_count": 213,
   "id": "settled-gauge",
   "metadata": {
    "execution": {
     "iopub.execute_input": "2021-07-12T11:28:56.289567Z",
     "iopub.status.busy": "2021-07-12T11:28:56.289429Z",
     "iopub.status.idle": "2021-07-12T11:28:56.292979Z",
     "shell.execute_reply": "2021-07-12T11:28:56.292472Z",
     "shell.execute_reply.started": "2021-07-12T11:28:56.289552Z"
    }
   },
   "outputs": [
    {
     "data": {
      "text/plain": [
       "4"
      ]
     },
     "execution_count": 213,
     "metadata": {},
     "output_type": "execute_result"
    }
   ],
   "source": [
    "mapping_f[str(test_im[0,0,:]).replace(\"  \",\"\")]"
   ]
  },
  {
   "cell_type": "code",
   "execution_count": 195,
   "id": "healthy-accessory",
   "metadata": {
    "execution": {
     "iopub.execute_input": "2021-07-12T11:26:54.840219Z",
     "iopub.status.busy": "2021-07-12T11:26:54.839413Z",
     "iopub.status.idle": "2021-07-12T11:26:54.854803Z",
     "shell.execute_reply": "2021-07-12T11:26:54.852967Z",
     "shell.execute_reply.started": "2021-07-12T11:26:54.840122Z"
    }
   },
   "outputs": [
    {
     "data": {
      "text/plain": [
       "{'[64 128 64]': 0,\n",
       " '[192 0 128]': 1,\n",
       " '[0 128 192]': 2,\n",
       " '[0 128 64]': 3,\n",
       " '[128 0 0]': 4,\n",
       " '[64 0 128]': 5,\n",
       " '[64 0 192]': 6,\n",
       " '[192 128 64]': 7,\n",
       " '[192 192 128]': 8,\n",
       " '[64 64 128]': 9,\n",
       " '[128 0 192]': 10,\n",
       " '[192 0 64]': 11,\n",
       " '[128 128 64]': 12,\n",
       " '[192 0 192]': 13,\n",
       " '[128 64 64]': 14,\n",
       " '[64 192 128]': 15,\n",
       " '[64 64 0]': 16,\n",
       " '[128 64 128]': 17,\n",
       " '[128 128 192]': 18,\n",
       " '[0 0 192]': 20,\n",
       " '[192 128 128]': 21,\n",
       " '[128 128 128]': 22,\n",
       " '[64 128 192]': 19,\n",
       " '[0 0 64]': 23,\n",
       " '[0 64 64]': 24,\n",
       " '[192 64 128]': 25,\n",
       " '[128 128 0]': 26,\n",
       " '[192 128 192]': 27,\n",
       " '[64 0 64]': 28,\n",
       " '[192 192 0]': 29,\n",
       " '[0 0 0]': 30,\n",
       " '[64 192 0]': 31}"
      ]
     },
     "execution_count": 195,
     "metadata": {},
     "output_type": "execute_result"
    }
   ],
   "source": [
    "mapping_f"
   ]
  },
  {
   "cell_type": "code",
   "execution_count": null,
   "id": "cardiac-temple",
   "metadata": {},
   "outputs": [],
   "source": []
  }
 ],
 "metadata": {
  "jupytext": {
   "cell_metadata_filter": "-all",
   "main_language": "python",
   "notebook_metadata_filter": "-all"
  },
  "kernelspec": {
   "display_name": "Python 3",
   "language": "python",
   "name": "python3"
  },
  "language_info": {
   "codemirror_mode": {
    "name": "ipython",
    "version": 3
   },
   "file_extension": ".py",
   "mimetype": "text/x-python",
   "name": "python",
   "nbconvert_exporter": "python",
   "pygments_lexer": "ipython3",
   "version": "3.9.5"
  }
 },
 "nbformat": 4,
 "nbformat_minor": 5
}
