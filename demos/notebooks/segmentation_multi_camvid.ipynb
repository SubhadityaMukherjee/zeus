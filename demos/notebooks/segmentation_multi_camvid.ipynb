{
 "cells": [
  {
   "cell_type": "markdown",
   "id": "proof-cement",
   "metadata": {},
   "source": [
    "# Imports"
   ]
  },
  {
   "cell_type": "code",
   "execution_count": null,
   "id": "purple-directory",
   "metadata": {},
   "outputs": [],
   "source": [
    "import argparse\n",
    "import os\n",
    "import sys"
   ]
  },
  {
   "cell_type": "code",
   "execution_count": null,
   "id": "global-opposition",
   "metadata": {},
   "outputs": [],
   "source": [
    "sys.path.append(\"../\")\n",
    "os.environ[\"TORCH_HOME\"] = \"/media/hdd/Datasets/\""
   ]
  },
  {
   "cell_type": "code",
   "execution_count": null,
   "id": "fleet-empty",
   "metadata": {},
   "outputs": [],
   "source": [
    "import glob\n",
    "from pathlib import Path"
   ]
  },
  {
   "cell_type": "code",
   "execution_count": null,
   "id": "split-robin",
   "metadata": {},
   "outputs": [],
   "source": [
    "import albumentations\n",
    "import pandas as pd\n",
    "import torch\n",
    "import torch.nn as nn\n",
    "from efficientnet_pytorch import EfficientNet\n",
    "from PIL import Image\n",
    "from sklearn import metrics, model_selection, preprocessing\n",
    "from torch.nn import functional as F\n",
    "from torch.utils.data import Dataset"
   ]
  },
  {
   "cell_type": "code",
   "execution_count": null,
   "id": "considerable-trail",
   "metadata": {},
   "outputs": [],
   "source": [
    "import zeus\n",
    "from zeus.callbacks import (EarlyStopping, GradientClipping, PlotLoss,\n",
    "                            TensorBoardLogger)\n",
    "from zeus.datasets import ImageDataset\n",
    "from zeus.metrics import LabelSmoothingCrossEntropy\n",
    "from zeus.utils.model_helpers import *"
   ]
  },
  {
   "cell_type": "markdown",
   "id": "french-diagram",
   "metadata": {},
   "source": [
    "# Defining"
   ]
  },
  {
   "cell_type": "markdown",
   "id": "informed-fourth",
   "metadata": {},
   "source": [
    "## Params"
   ]
  },
  {
   "cell_type": "code",
   "execution_count": null,
   "id": "light-association",
   "metadata": {},
   "outputs": [],
   "source": [
    "INPUT_PATH = \"/media/hdd/Datasets/CamVid/\"\n",
    "MODEL_PATH = \"./models/\"\n",
    "MODEL_NAME = os.path.basename(\"seg.pt\")\n",
    "TRAIN_BATCH_SIZE = 8\n",
    "VALID_BATCH_SIZE = 140\n",
    "# IMAGE_SIZE = 192"
   ]
  },
  {
   "cell_type": "code",
   "execution_count": null,
   "id": "alone-vault",
   "metadata": {
    "lines_to_next_cell": 2
   },
   "outputs": [],
   "source": [
    "map_path = INPUT_PATH + \"class_dict.csv\"\n",
    "map_dict = pd.read_csv(map_path)\n",
    "map_dict.head(1)\n",
    "map_dict[\"name\"].nunique()"
   ]
  },
  {
   "cell_type": "markdown",
   "id": "conservative-subscription",
   "metadata": {
    "lines_to_next_cell": 2
   },
   "source": [
    "## Label the data"
   ]
  },
  {
   "cell_type": "code",
   "execution_count": null,
   "id": "remarkable-reducing",
   "metadata": {},
   "outputs": [],
   "source": [
    "class CamvidDataset(Dataset):\n",
    "    def __init__(self, image_dir, mask_dir, transform=None):\n",
    "        self.image_dir = image_dir\n",
    "        self.mask_dir = mask_dir\n",
    "        self.transform = transform\n",
    "        self.images = os.listdir(image_dir)\n",
    "\n",
    "    def __len__(self):\n",
    "        return len(self.images)\n",
    "\n",
    "    def __getitem__(self, index):\n",
    "        img_path = os.path.join(self.image_dir, self.images[index])\n",
    "        mask_path = os.path.join(\n",
    "            self.mask_dir, self.images[index].replace(\".png\", \"_L.png\")\n",
    "        )\n",
    "        image = np.array(Image.open(img_path).convert(\"RGB\"))\n",
    "        mask = np.array(Image.open(mask_path).convert(\"RGB\"))\n",
    "        #         mask = np.array(Image.open(mask_path).convert(\"L\"), dtype=np.float32)\n",
    "        #         mask[mask == 255.0] = 1.0\n",
    "\n",
    "        if self.transform is not None:\n",
    "            augmentations = self.transform(image=image, mask=mask)\n",
    "            image = augmentations[\"image\"]\n",
    "            mask = augmentations[\"mask\"]\n",
    "\n",
    "        return {\"image\": image, \"targets\": mask.clone().detach()}"
   ]
  },
  {
   "cell_type": "code",
   "execution_count": null,
   "id": "boolean-fever",
   "metadata": {},
   "outputs": [],
   "source": [
    "import torch\n",
    "import torch.nn as nn\n",
    "import torchvision.transforms.functional as TF\n",
    "\n",
    "\n",
    "class DoubleConv(nn.Module):\n",
    "    def __init__(self, in_channels, out_channels):\n",
    "        super(DoubleConv, self).__init__()\n",
    "        self.conv = nn.Sequential(\n",
    "            nn.Conv2d(in_channels, out_channels, 3, 1, 1, bias=False),\n",
    "            nn.BatchNorm2d(out_channels),\n",
    "            nn.ReLU(inplace=True),\n",
    "            nn.Conv2d(out_channels, out_channels, 3, 1, 1, bias=False),\n",
    "            nn.BatchNorm2d(out_channels),\n",
    "            nn.ReLU(inplace=True),\n",
    "        )\n",
    "\n",
    "    def forward(self, x):\n",
    "        return self.conv(x)\n",
    "\n",
    "\n",
    "class UNET(nn.Module):\n",
    "    def __init__(\n",
    "        self,\n",
    "        in_channels=3,\n",
    "        out_channels=1,\n",
    "        features=[64, 128, 256, 512],\n",
    "    ):\n",
    "        super(UNET, self).__init__()\n",
    "        self.ups = nn.ModuleList()\n",
    "        self.downs = nn.ModuleList()\n",
    "        self.pool = nn.MaxPool2d(kernel_size=2, stride=2)\n",
    "\n",
    "        # Down part of UNET\n",
    "        for feature in features:\n",
    "            self.downs.append(DoubleConv(in_channels, feature))\n",
    "            in_channels = feature\n",
    "\n",
    "        # Up part of UNET\n",
    "        for feature in reversed(features):\n",
    "            self.ups.append(\n",
    "                nn.ConvTranspose2d(\n",
    "                    feature * 2,\n",
    "                    feature,\n",
    "                    kernel_size=2,\n",
    "                    stride=2,\n",
    "                )\n",
    "            )\n",
    "            self.ups.append(DoubleConv(feature * 2, feature))\n",
    "\n",
    "        self.bottleneck = DoubleConv(features[-1], features[-1] * 2)\n",
    "        self.final_conv = nn.Conv2d(features[0], out_channels, kernel_size=1)\n",
    "\n",
    "    def forward(self, x):\n",
    "        skip_connections = []\n",
    "\n",
    "        for down in self.downs:\n",
    "            x = down(x)\n",
    "            skip_connections.append(x)\n",
    "            x = self.pool(x)\n",
    "\n",
    "        x = self.bottleneck(x)\n",
    "        skip_connections = skip_connections[::-1]\n",
    "\n",
    "        for idx in range(0, len(self.ups), 2):\n",
    "            x = self.ups[idx](x)\n",
    "            skip_connection = skip_connections[idx // 2]\n",
    "\n",
    "            if x.shape != skip_connection.shape:\n",
    "                x = TF.resize(x, size=skip_connection.shape[2:])\n",
    "\n",
    "            concat_skip = torch.cat((skip_connection, x), dim=1)\n",
    "            x = self.ups[idx + 1](concat_skip)\n",
    "\n",
    "        return self.final_conv(x)"
   ]
  },
  {
   "cell_type": "code",
   "execution_count": null,
   "id": "burning-remove",
   "metadata": {},
   "outputs": [],
   "source": [
    "from os.path import isfile, join\n",
    "\n",
    "from zeus.metrics import dice\n",
    "\n",
    "# class BCELoss2d(nn.Module):\n",
    "#     \"\"\"\n",
    "#     Code taken from:\n",
    "#     https://www.kaggle.com/c/carvana-image-masking-challenge/discussion/37208\n",
    "#     \"\"\"\n",
    "\n",
    "#     def __init__(self, weight=None, size_average=True):\n",
    "#         super(BCELoss2d, self).__init__()\n",
    "#         self.bce_loss = nn.BCELoss(weight, size_average)\n",
    "\n",
    "#     def forward(self, logits, targets):\n",
    "#         probs = F.sigmoid(logits)\n",
    "#         probs_flat = probs.view(-1)\n",
    "#         targets_flat = targets.view(-1)\n",
    "#         return self.bce_loss(probs_flat, targets_flat)\n",
    "\n",
    "\n",
    "class Model(zeus.Model):\n",
    "    def __init__(self, n_classes):\n",
    "        super().__init__()\n",
    "\n",
    "        self.model = UNET(3, n_classes).cuda()\n",
    "\n",
    "    #     def monitor_metrics(self, outputs, targets):\n",
    "    # #         accuracy = dice(targets, outputs)\n",
    "    # #         return {\"dice_score\": float(accuracy)}\n",
    "    #         return {\"dice_score\": 0.0}\n",
    "    def monitor_metrics(self, outloss):\n",
    "        return {\"epoch\": self.current_epoch, \"ce_loss\": float(outloss)}\n",
    "\n",
    "    def fetch_optimizer(self):\n",
    "        opt = torch.optim.AdamW(self.parameters(), lr=1e-4)\n",
    "        return opt\n",
    "\n",
    "    def forward(self, image, targets=None):\n",
    "        batch_size, _, _, _ = image.shape\n",
    "        outputs = self.model(image)\n",
    "\n",
    "        if targets is not None:\n",
    "            targets = targets.long()\n",
    "            targets = torch.argmax(targets, dim=3).long()\n",
    "            #             print(outputs.shape, targets.shape)\n",
    "            #             targets = targets.float().unsqueeze(1)\n",
    "            #             loss = nn.BCEWithLogitsLoss()(outputs, targets)\n",
    "            loss = nn.CrossEntropyLoss()(outputs, targets)\n",
    "            metrics = self.monitor_metrics(loss)\n",
    "            return outputs, loss, metrics\n",
    "        return outputs, 0, {}"
   ]
  },
  {
   "cell_type": "code",
   "execution_count": null,
   "id": "polyphonic-leather",
   "metadata": {},
   "outputs": [],
   "source": [
    "from albumentations.pytorch import ToTensorV2\n",
    "\n",
    "train_aug = albumentations.Compose(\n",
    "    [\n",
    "        albumentations.Resize(160, 240),\n",
    "        albumentations.HorizontalFlip(p=0.5),\n",
    "        albumentations.VerticalFlip(p=0.5),\n",
    "        albumentations.Normalize(\n",
    "            mean=[0.485, 0.456, 0.406],\n",
    "            std=[0.229, 0.224, 0.225],\n",
    "            max_pixel_value=255.0,\n",
    "            p=1.0,\n",
    "        ),\n",
    "        ToTensorV2(),\n",
    "    ],\n",
    "    p=1.0,\n",
    ")\n",
    "\n",
    "valid_aug = albumentations.Compose(\n",
    "    [\n",
    "        albumentations.Resize(160, 240),\n",
    "        albumentations.Normalize(\n",
    "            mean=[0.485, 0.456, 0.406],\n",
    "            std=[0.229, 0.224, 0.225],\n",
    "            max_pixel_value=255.0,\n",
    "            p=1.0,\n",
    "        ),\n",
    "        ToTensorV2(),\n",
    "    ],\n",
    "    p=1.0,\n",
    ")"
   ]
  },
  {
   "cell_type": "markdown",
   "id": "negative-domestic",
   "metadata": {},
   "source": [
    "## Data pre process"
   ]
  },
  {
   "cell_type": "markdown",
   "id": "faced-medium",
   "metadata": {},
   "source": [
    "## Training"
   ]
  },
  {
   "cell_type": "code",
   "execution_count": null,
   "id": "third-washington",
   "metadata": {},
   "outputs": [],
   "source": [
    "from torch.utils.data import DataLoader\n",
    "from torchvision import transforms"
   ]
  },
  {
   "cell_type": "code",
   "execution_count": null,
   "id": "exempt-angel",
   "metadata": {},
   "outputs": [],
   "source": [
    "train_ds = CamvidDataset(\n",
    "    image_dir=\"/media/hdd/Datasets/CamVid/train/\",\n",
    "    mask_dir=\"/media/hdd/Datasets/CamVid/train_labels/\",\n",
    "    transform=train_aug,\n",
    ")\n",
    "valid_ds = CamvidDataset(\n",
    "    image_dir=\"/media/hdd/Datasets/CamVid/val/\",\n",
    "    mask_dir=\"/media/hdd/Datasets/CamVid/val_labels/\",\n",
    "    transform=valid_aug,\n",
    ")"
   ]
  },
  {
   "cell_type": "markdown",
   "id": "senior-conversion",
   "metadata": {},
   "source": [
    "## Callbacks"
   ]
  },
  {
   "cell_type": "code",
   "execution_count": null,
   "id": "bound-stupid",
   "metadata": {},
   "outputs": [],
   "source": [
    "model = Model(32)\n",
    "\n",
    "es = EarlyStopping(\n",
    "    monitor=\"valid_loss\",\n",
    "    model_path=os.path.join(MODEL_PATH, MODEL_NAME + \".bin\"),\n",
    "    patience=3,\n",
    "    mode=\"min\",\n",
    ")\n",
    "\n",
    "tb = TensorBoardLogger()\n",
    "grc = GradientClipping(5)\n",
    "pl = PlotLoss(10)"
   ]
  },
  {
   "cell_type": "code",
   "execution_count": null,
   "id": "swedish-coaching",
   "metadata": {},
   "outputs": [],
   "source": [
    "count_parameters(model, showtable=False)"
   ]
  },
  {
   "cell_type": "code",
   "execution_count": null,
   "id": "imperial-lease",
   "metadata": {},
   "outputs": [],
   "source": [
    "EPOCHS = 30\n",
    "\n",
    "model.fit(\n",
    "    train_ds,\n",
    "    valid_dataset=valid_ds,\n",
    "    train_bs=TRAIN_BATCH_SIZE,\n",
    "    valid_bs=TRAIN_BATCH_SIZE,\n",
    "    device=\"cuda\",\n",
    "    epochs=EPOCHS,\n",
    "    callbacks=[grc, pl, tb],\n",
    "    fp16=False,\n",
    ")"
   ]
  },
  {
   "cell_type": "code",
   "execution_count": null,
   "id": "sonic-assault",
   "metadata": {},
   "outputs": [],
   "source": [
    "model.save(Path(MODEL_PATH) / MODEL_NAME)"
   ]
  },
  {
   "cell_type": "markdown",
   "id": "natural-surfing",
   "metadata": {},
   "source": [
    "# Preds"
   ]
  },
  {
   "cell_type": "code",
   "execution_count": null,
   "id": "numerous-metallic",
   "metadata": {},
   "outputs": [],
   "source": [
    "mod = model.load(Path(MODEL_PATH) / MODEL_NAME)"
   ]
  },
  {
   "cell_type": "code",
   "execution_count": null,
   "id": "superb-google",
   "metadata": {},
   "outputs": [],
   "source": [
    "tes = np.array(Image.open(\"/media/hdd/Datasets/CamVid/val/0001TP_009030.png\"))\n",
    "tes = torch.tensor(tes).unsqueeze(0)\n",
    "tes = torch.einsum(\"bhwc->bchw\", tes)\n",
    "tes.shape"
   ]
  },
  {
   "cell_type": "code",
   "execution_count": null,
   "id": "generic-kidney",
   "metadata": {},
   "outputs": [],
   "source": [
    "mo = model.model\n",
    "mo.eval()\n",
    "test_output = mo(tes.float().cuda())"
   ]
  },
  {
   "cell_type": "code",
   "execution_count": null,
   "id": "coordinate-percentage",
   "metadata": {},
   "outputs": [],
   "source": [
    "test_output = torch.einsum(\"bchw->hwc\", test_output)\n",
    "test_output.shape"
   ]
  },
  {
   "cell_type": "code",
   "execution_count": null,
   "id": "talented-green",
   "metadata": {},
   "outputs": [],
   "source": [
    "tes_np = np.array(test_output.detach().cpu())"
   ]
  },
  {
   "cell_type": "code",
   "execution_count": null,
   "id": "outstanding-expert",
   "metadata": {},
   "outputs": [],
   "source": [
    "tes_np.shape"
   ]
  },
  {
   "cell_type": "code",
   "execution_count": null,
   "id": "rising-longitude",
   "metadata": {},
   "outputs": [],
   "source": [
    "tes_np[:, :, 1]"
   ]
  },
  {
   "cell_type": "code",
   "execution_count": null,
   "id": "composed-columbia",
   "metadata": {
    "lines_to_next_cell": 2
   },
   "outputs": [],
   "source": [
    "im = pil_from_tensor(test_output[:, :, 1])\n",
    "im = np.array(im.convert(\"RGB\"))"
   ]
  },
  {
   "cell_type": "markdown",
   "id": "retired-phenomenon",
   "metadata": {},
   "source": [
    "# Testing imae encodings"
   ]
  },
  {
   "cell_type": "code",
   "execution_count": null,
   "id": "exceptional-toner",
   "metadata": {},
   "outputs": [],
   "source": [
    "map_dict[\"name\"] = map_dict[\"name\"].astype(\"category\")\n",
    "\n",
    "map_dict[\"label\"] = map_dict[\"name\"].cat.codes\n",
    "map_dict[\"value\"] = map_dict[[\"r\", \"g\", \"b\"]].values.tolist()\n",
    "\n",
    "ts = \"/media/hdd/Datasets/CamVid/test_labels/0001TP_006690_L.png\""
   ]
  },
  {
   "cell_type": "code",
   "execution_count": null,
   "id": "extraordinary-brass",
   "metadata": {},
   "outputs": [],
   "source": [
    "test_im = np.array(Image.open(ts))"
   ]
  },
  {
   "cell_type": "code",
   "execution_count": null,
   "id": "conventional-rebound",
   "metadata": {},
   "outputs": [],
   "source": [
    "# test_label = map_dict.head(100)\n",
    "test_label = map_dict[[\"value\", \"label\"]]\n",
    "test_label.head()"
   ]
  },
  {
   "cell_type": "code",
   "execution_count": null,
   "id": "streaming-playlist",
   "metadata": {},
   "outputs": [],
   "source": [
    "mapping_f = {\n",
    "    str(x[\"value\"]).replace(\",\", \"\"): x[\"label\"]\n",
    "    for x in test_label.to_dict(orient=\"records\")\n",
    "}"
   ]
  },
  {
   "cell_type": "code",
   "execution_count": null,
   "id": "moral-fetish",
   "metadata": {},
   "outputs": [],
   "source": [
    "str(test_im[0, 0, :])"
   ]
  },
  {
   "cell_type": "code",
   "execution_count": null,
   "id": "spatial-manner",
   "metadata": {},
   "outputs": [],
   "source": [
    "mapping_f[str(test_im[0, 0, :]).replace(\"  \", \"\")]"
   ]
  },
  {
   "cell_type": "code",
   "execution_count": null,
   "id": "armed-cradle",
   "metadata": {},
   "outputs": [],
   "source": [
    "mapping_f"
   ]
  }
 ],
 "metadata": {
  "jupytext": {
   "cell_metadata_filter": "-all",
   "main_language": "python",
   "notebook_metadata_filter": "-all"
  }
 },
 "nbformat": 4,
 "nbformat_minor": 5
}
