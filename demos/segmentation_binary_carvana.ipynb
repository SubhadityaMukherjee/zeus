{
 "cells": [
  {
   "cell_type": "markdown",
   "id": "experimental-harvest",
   "metadata": {},
   "source": [
    "# Imports"
   ]
  },
  {
   "cell_type": "code",
   "execution_count": 1,
   "id": "frequent-marketplace",
   "metadata": {
    "execution": {
     "iopub.execute_input": "2021-07-05T20:42:32.641549Z",
     "iopub.status.busy": "2021-07-05T20:42:32.641058Z",
     "iopub.status.idle": "2021-07-05T20:42:32.652949Z",
     "shell.execute_reply": "2021-07-05T20:42:32.652217Z",
     "shell.execute_reply.started": "2021-07-05T20:42:32.641414Z"
    }
   },
   "outputs": [],
   "source": [
    "import argparse\n",
    "import os\n",
    "import sys\n",
    "sys.path.append(\"../\")\n",
    "os.environ['TORCH_HOME'] = \"/media/hdd/Datasets/\""
   ]
  },
  {
   "cell_type": "code",
   "execution_count": 2,
   "id": "deadly-intention",
   "metadata": {
    "execution": {
     "iopub.execute_input": "2021-07-05T20:42:32.654729Z",
     "iopub.status.busy": "2021-07-05T20:42:32.654395Z",
     "iopub.status.idle": "2021-07-05T20:42:34.046037Z",
     "shell.execute_reply": "2021-07-05T20:42:34.045658Z",
     "shell.execute_reply.started": "2021-07-05T20:42:32.654684Z"
    }
   },
   "outputs": [],
   "source": [
    "import glob\n",
    "import albumentations\n",
    "import pandas as pd\n",
    "import zeus\n",
    "import torch\n",
    "import torch.nn as nn\n",
    "from efficientnet_pytorch import EfficientNet\n",
    "from sklearn import metrics, model_selection, preprocessing\n",
    "from zeus.callbacks import EarlyStopping, TensorBoardLogger, GradientClipping, PlotLoss\n",
    "from zeus.metrics import LabelSmoothingCrossEntropy\n",
    "from zeus.datasets import ImageDataset\n",
    "from torch.nn import functional as F"
   ]
  },
  {
   "cell_type": "code",
   "execution_count": 3,
   "id": "corrected-combat",
   "metadata": {
    "execution": {
     "iopub.execute_input": "2021-07-05T20:42:34.046773Z",
     "iopub.status.busy": "2021-07-05T20:42:34.046618Z",
     "iopub.status.idle": "2021-07-05T20:42:34.078565Z",
     "shell.execute_reply": "2021-07-05T20:42:34.078174Z",
     "shell.execute_reply.started": "2021-07-05T20:42:34.046759Z"
    }
   },
   "outputs": [],
   "source": [
    "from zeus.utils.model_helpers import *"
   ]
  },
  {
   "cell_type": "markdown",
   "id": "another-lincoln",
   "metadata": {},
   "source": [
    "# Defining"
   ]
  },
  {
   "cell_type": "markdown",
   "id": "competitive-encoding",
   "metadata": {},
   "source": [
    "## Params"
   ]
  },
  {
   "cell_type": "code",
   "execution_count": 4,
   "id": "simplified-charger",
   "metadata": {
    "execution": {
     "iopub.execute_input": "2021-07-05T20:42:34.079307Z",
     "iopub.status.busy": "2021-07-05T20:42:34.079195Z",
     "iopub.status.idle": "2021-07-05T20:42:34.082045Z",
     "shell.execute_reply": "2021-07-05T20:42:34.081364Z",
     "shell.execute_reply.started": "2021-07-05T20:42:34.079293Z"
    }
   },
   "outputs": [],
   "source": [
    "INPUT_PATH = \"/media/hdd/Datasets/carvana/\"\n",
    "MODEL_PATH = \"/models/\"\n",
    "MODEL_NAME = os.path.basename(\"seg.pt\")\n",
    "TRAIN_BATCH_SIZE = 8\n",
    "VALID_BATCH_SIZE = 140\n",
    "# IMAGE_SIZE = 192"
   ]
  },
  {
   "cell_type": "code",
   "execution_count": 5,
   "id": "preceding-latvia",
   "metadata": {
    "execution": {
     "iopub.execute_input": "2021-07-05T20:42:34.083089Z",
     "iopub.status.busy": "2021-07-05T20:42:34.082873Z",
     "iopub.status.idle": "2021-07-05T20:42:34.089176Z",
     "shell.execute_reply": "2021-07-05T20:42:34.088694Z",
     "shell.execute_reply.started": "2021-07-05T20:42:34.083067Z"
    }
   },
   "outputs": [],
   "source": [
    "from PIL import Image\n",
    "from torch.utils.data import Dataset\n",
    "\n",
    "class CarvanaDataset(Dataset):\n",
    "    def __init__(self, image_dir, mask_dir, transform=None):\n",
    "        self.image_dir = image_dir\n",
    "        self.mask_dir = mask_dir\n",
    "        self.transform = transform\n",
    "        self.images = os.listdir(image_dir)\n",
    "\n",
    "    def __len__(self):\n",
    "        return len(self.images)\n",
    "\n",
    "    def __getitem__(self, index):\n",
    "        img_path = os.path.join(self.image_dir, self.images[index])\n",
    "        mask_path = os.path.join(self.mask_dir, self.images[index].replace(\".jpg\", \"_mask.gif\"))\n",
    "        image = np.array(Image.open(img_path).convert(\"RGB\"))\n",
    "        mask = np.array(Image.open(mask_path).convert(\"L\"), dtype=np.float32)\n",
    "        mask[mask == 255.0] = 1.0\n",
    "\n",
    "        if self.transform is not None:\n",
    "            augmentations = self.transform(image=image, mask=mask)\n",
    "            image = augmentations[\"image\"]\n",
    "            mask = augmentations[\"mask\"]\n",
    "        \n",
    "        return {\"image\":image, \"targets\":mask.clone().detach()}"
   ]
  },
  {
   "cell_type": "code",
   "execution_count": 6,
   "id": "another-projection",
   "metadata": {
    "execution": {
     "iopub.execute_input": "2021-07-05T20:42:34.089879Z",
     "iopub.status.busy": "2021-07-05T20:42:34.089754Z",
     "iopub.status.idle": "2021-07-05T20:42:34.097052Z",
     "shell.execute_reply": "2021-07-05T20:42:34.096618Z",
     "shell.execute_reply.started": "2021-07-05T20:42:34.089865Z"
    }
   },
   "outputs": [],
   "source": [
    "import torch\n",
    "import torch.nn as nn\n",
    "import torchvision.transforms.functional as TF\n",
    "\n",
    "class DoubleConv(nn.Module):\n",
    "    def __init__(self, in_channels, out_channels):\n",
    "        super(DoubleConv, self).__init__()\n",
    "        self.conv = nn.Sequential(\n",
    "            nn.Conv2d(in_channels, out_channels, 3, 1, 1, bias=False),\n",
    "            nn.BatchNorm2d(out_channels),\n",
    "            nn.ReLU(inplace=True),\n",
    "            nn.Conv2d(out_channels, out_channels, 3, 1, 1, bias=False),\n",
    "            nn.BatchNorm2d(out_channels),\n",
    "            nn.ReLU(inplace=True),\n",
    "        )\n",
    "\n",
    "    def forward(self, x):\n",
    "        return self.conv(x)\n",
    "\n",
    "class UNET(nn.Module):\n",
    "    def __init__(\n",
    "            self, in_channels=3, out_channels=1, features=[64, 128, 256, 512],\n",
    "    ):\n",
    "        super(UNET, self).__init__()\n",
    "        self.ups = nn.ModuleList()\n",
    "        self.downs = nn.ModuleList()\n",
    "        self.pool = nn.MaxPool2d(kernel_size=2, stride=2)\n",
    "\n",
    "        # Down part of UNET\n",
    "        for feature in features:\n",
    "            self.downs.append(DoubleConv(in_channels, feature))\n",
    "            in_channels = feature\n",
    "\n",
    "        # Up part of UNET\n",
    "        for feature in reversed(features):\n",
    "            self.ups.append(\n",
    "                nn.ConvTranspose2d(\n",
    "                    feature*2, feature, kernel_size=2, stride=2,\n",
    "                )\n",
    "            )\n",
    "            self.ups.append(DoubleConv(feature*2, feature))\n",
    "\n",
    "        self.bottleneck = DoubleConv(features[-1], features[-1]*2)\n",
    "        self.final_conv = nn.Conv2d(features[0], out_channels, kernel_size=1)\n",
    "\n",
    "    def forward(self, x):\n",
    "        skip_connections = []\n",
    "\n",
    "        for down in self.downs:\n",
    "            x = down(x)\n",
    "            skip_connections.append(x)\n",
    "            x = self.pool(x)\n",
    "\n",
    "        x = self.bottleneck(x)\n",
    "        skip_connections = skip_connections[::-1]\n",
    "\n",
    "        for idx in range(0, len(self.ups), 2):\n",
    "            x = self.ups[idx](x)\n",
    "            skip_connection = skip_connections[idx//2]\n",
    "\n",
    "            if x.shape != skip_connection.shape:\n",
    "                x = TF.resize(x, size=skip_connection.shape[2:])\n",
    "\n",
    "            concat_skip = torch.cat((skip_connection, x), dim=1)\n",
    "            x = self.ups[idx+1](concat_skip)\n",
    "\n",
    "        return self.final_conv(x)"
   ]
  },
  {
   "cell_type": "code",
   "execution_count": 7,
   "id": "rising-sullivan",
   "metadata": {
    "execution": {
     "iopub.execute_input": "2021-07-05T20:42:34.098331Z",
     "iopub.status.busy": "2021-07-05T20:42:34.098216Z",
     "iopub.status.idle": "2021-07-05T20:42:34.103690Z",
     "shell.execute_reply": "2021-07-05T20:42:34.103054Z",
     "shell.execute_reply.started": "2021-07-05T20:42:34.098318Z"
    }
   },
   "outputs": [],
   "source": [
    "from os.path import isfile, join\n",
    "from zeus.metrics import dice\n",
    "\n",
    "class BCELoss2d(nn.Module):\n",
    "    \"\"\"\n",
    "    Code taken from:\n",
    "    https://www.kaggle.com/c/carvana-image-masking-challenge/discussion/37208\n",
    "    \"\"\"\n",
    "\n",
    "    def __init__(self, weight=None, size_average=True):\n",
    "        super(BCELoss2d, self).__init__()\n",
    "        self.bce_loss = nn.BCELoss(weight, size_average)\n",
    "\n",
    "    def forward(self, logits, targets):\n",
    "        probs = F.sigmoid(logits)\n",
    "        probs_flat = probs.view(-1)\n",
    "        targets_flat = targets.view(-1)\n",
    "        return self.bce_loss(probs_flat, targets_flat)\n",
    "\n",
    "class Model(zeus.Model):\n",
    "    def __init__(self):\n",
    "        super().__init__()\n",
    "\n",
    "        self.model = UNET(3, 1).cuda()\n",
    "\n",
    "    def monitor_metrics(self, outputs, targets):\n",
    "        accuracy = dice(targets, outputs)\n",
    "        return {\"dice_score\": float(accuracy)}\n",
    "\n",
    "    def fetch_optimizer(self):\n",
    "        opt = torch.optim.AdamW(self.parameters(), lr=1e-4)\n",
    "        return opt\n",
    "\n",
    "    def forward(self, image, targets=None):\n",
    "        batch_size, _, _, _ = image.shape\n",
    "        outputs = self.model(image)\n",
    "\n",
    "        if targets is not None:\n",
    "            targets = targets.float().unsqueeze(1)\n",
    "            loss = nn.BCEWithLogitsLoss()(outputs, targets)\n",
    "            metrics = self.monitor_metrics(outputs, targets)\n",
    "            return outputs, loss, metrics\n",
    "        return outputs, 0, {}"
   ]
  },
  {
   "cell_type": "code",
   "execution_count": 8,
   "id": "funny-foster",
   "metadata": {
    "execution": {
     "iopub.execute_input": "2021-07-05T20:42:34.105159Z",
     "iopub.status.busy": "2021-07-05T20:42:34.104940Z",
     "iopub.status.idle": "2021-07-05T20:42:34.110204Z",
     "shell.execute_reply": "2021-07-05T20:42:34.109739Z",
     "shell.execute_reply.started": "2021-07-05T20:42:34.105135Z"
    }
   },
   "outputs": [],
   "source": [
    "from albumentations.pytorch import ToTensorV2\n",
    "train_aug = albumentations.Compose(\n",
    "    [\n",
    "        albumentations.Resize(160,240),\n",
    "        albumentations.HorizontalFlip(p=0.5),\n",
    "        albumentations.VerticalFlip(p=0.5),\n",
    "        albumentations.Normalize(\n",
    "            mean=[0.485, 0.456, 0.406],\n",
    "            std=[0.229, 0.224, 0.225],\n",
    "            max_pixel_value=255.0,\n",
    "            p=1.0,\n",
    "        ),\n",
    "        ToTensorV2(),\n",
    "    ],\n",
    "    p=1.0,\n",
    ")\n",
    "\n",
    "valid_aug = albumentations.Compose(\n",
    "    [\n",
    "        albumentations.Resize(160,240),\n",
    "        albumentations.Normalize(\n",
    "            mean=[0.485, 0.456, 0.406],\n",
    "            std=[0.229, 0.224, 0.225],\n",
    "            max_pixel_value=255.0,\n",
    "            p=1.0,\n",
    "        ),\n",
    "        ToTensorV2(),\n",
    "    ],\n",
    "    p=1.0,\n",
    ")"
   ]
  },
  {
   "cell_type": "markdown",
   "id": "endless-times",
   "metadata": {},
   "source": [
    "## Data pre process"
   ]
  },
  {
   "cell_type": "markdown",
   "id": "saving-subject",
   "metadata": {},
   "source": [
    "## Training"
   ]
  },
  {
   "cell_type": "code",
   "execution_count": 9,
   "id": "accompanied-quality",
   "metadata": {
    "execution": {
     "iopub.execute_input": "2021-07-05T20:42:34.110937Z",
     "iopub.status.busy": "2021-07-05T20:42:34.110810Z",
     "iopub.status.idle": "2021-07-05T20:42:34.115330Z",
     "shell.execute_reply": "2021-07-05T20:42:34.114885Z",
     "shell.execute_reply.started": "2021-07-05T20:42:34.110922Z"
    }
   },
   "outputs": [],
   "source": [
    "from torchvision import transforms\n",
    "from torch.utils.data import DataLoader\n",
    "train_ds = CarvanaDataset(\n",
    "        image_dir=\"/media/hdd/Datasets/carvana/train/\",\n",
    "        mask_dir=\"/media/hdd/Datasets/carvana/train_masks/\",\n",
    "        transform=train_aug,\n",
    "    )\n"
   ]
  },
  {
   "cell_type": "markdown",
   "id": "unlikely-chassis",
   "metadata": {},
   "source": [
    "## Callbacks"
   ]
  },
  {
   "cell_type": "code",
   "execution_count": 10,
   "id": "coupled-milton",
   "metadata": {
    "execution": {
     "iopub.execute_input": "2021-07-05T20:42:34.116099Z",
     "iopub.status.busy": "2021-07-05T20:42:34.115903Z",
     "iopub.status.idle": "2021-07-05T20:42:36.651168Z",
     "shell.execute_reply": "2021-07-05T20:42:36.650727Z",
     "shell.execute_reply.started": "2021-07-05T20:42:34.116069Z"
    }
   },
   "outputs": [],
   "source": [
    "model = Model()\n",
    "\n",
    "es = EarlyStopping(\n",
    "    monitor=\"valid_loss\",\n",
    "    model_path=os.path.join(MODEL_PATH, MODEL_NAME + \".bin\"),\n",
    "    patience=3,\n",
    "    mode=\"min\",\n",
    ")\n",
    "\n",
    "tb = TensorBoardLogger()\n",
    "grc = GradientClipping(5)\n",
    "pl = PlotLoss(2)"
   ]
  },
  {
   "cell_type": "code",
   "execution_count": 11,
   "id": "german-astronomy",
   "metadata": {
    "execution": {
     "iopub.execute_input": "2021-07-05T20:42:36.651769Z",
     "iopub.status.busy": "2021-07-05T20:42:36.651666Z",
     "iopub.status.idle": "2021-07-05T20:42:36.656620Z",
     "shell.execute_reply": "2021-07-05T20:42:36.656267Z",
     "shell.execute_reply.started": "2021-07-05T20:42:36.651756Z"
    }
   },
   "outputs": [
    {
     "name": "stdout",
     "output_type": "stream",
     "text": [
      "Total Trainable Params: 31037633\n"
     ]
    },
    {
     "data": {
      "text/plain": [
       "31037633"
      ]
     },
     "execution_count": 11,
     "metadata": {},
     "output_type": "execute_result"
    }
   ],
   "source": [
    "count_parameters(model, showtable=False)"
   ]
  },
  {
   "cell_type": "code",
   "execution_count": 12,
   "id": "coral-slope",
   "metadata": {
    "execution": {
     "iopub.execute_input": "2021-07-05T20:42:36.657335Z",
     "iopub.status.busy": "2021-07-05T20:42:36.657224Z",
     "iopub.status.idle": "2021-07-05T20:48:35.765807Z",
     "shell.execute_reply": "2021-07-05T20:48:35.765416Z",
     "shell.execute_reply.started": "2021-07-05T20:42:36.657322Z"
    }
   },
   "outputs": [
    {
     "name": "stderr",
     "output_type": "stream",
     "text": [
      "100%|██████| 636/636 [02:58<00:00,  3.56it/s, dice_score=0, loss=0.151, stage=train]\n",
      "100%|█████| 636/636 [03:00<00:00,  3.53it/s, dice_score=0, loss=0.0548, stage=train]\n"
     ]
    }
   ],
   "source": [
    "EPOCHS = 2\n",
    "\n",
    "model.fit(\n",
    "    train_ds,\n",
    "#     valid_dataset=valid_dataset,\n",
    "    train_bs=TRAIN_BATCH_SIZE,\n",
    "#     valid_bs=VALID_BATCH_SIZE,\n",
    "    device=\"cuda\",\n",
    "    epochs=EPOCHS,\n",
    "    callbacks=[grc, pl, tb],\n",
    "#     callbacks=[es, tb],\n",
    "    fp16=False,\n",
    ")"
   ]
  },
  {
   "cell_type": "code",
   "execution_count": 21,
   "id": "regulation-tradition",
   "metadata": {
    "execution": {
     "iopub.execute_input": "2021-07-05T20:48:55.357942Z",
     "iopub.status.busy": "2021-07-05T20:48:55.357775Z",
     "iopub.status.idle": "2021-07-05T20:48:55.381011Z",
     "shell.execute_reply": "2021-07-05T20:48:55.380485Z",
     "shell.execute_reply.started": "2021-07-05T20:48:55.357915Z"
    }
   },
   "outputs": [],
   "source": [
    "tes = valid_aug(image = np.array(Image.open(\"/media/hdd/Datasets/carvana/train/0cdf5b5d0ce1_04.jpg\")))[\"image\"].unsqueeze(0).cuda()"
   ]
  },
  {
   "cell_type": "code",
   "execution_count": 22,
   "id": "necessary-occupation",
   "metadata": {
    "execution": {
     "iopub.execute_input": "2021-07-05T20:48:55.569488Z",
     "iopub.status.busy": "2021-07-05T20:48:55.569005Z",
     "iopub.status.idle": "2021-07-05T20:48:55.591331Z",
     "shell.execute_reply": "2021-07-05T20:48:55.590458Z",
     "shell.execute_reply.started": "2021-07-05T20:48:55.569432Z"
    }
   },
   "outputs": [],
   "source": [
    "mo = model.model\n",
    "mo.eval()\n",
    "tes = torch.sigmoid(mo(tes))\n",
    "tes = (tes>.5).float()\n",
    "tes = tes.squeeze(0)"
   ]
  },
  {
   "cell_type": "code",
   "execution_count": 23,
   "id": "bibliographic-district",
   "metadata": {
    "execution": {
     "iopub.execute_input": "2021-07-05T20:48:56.201103Z",
     "iopub.status.busy": "2021-07-05T20:48:56.200899Z",
     "iopub.status.idle": "2021-07-05T20:48:56.205670Z",
     "shell.execute_reply": "2021-07-05T20:48:56.205132Z",
     "shell.execute_reply.started": "2021-07-05T20:48:56.201084Z"
    }
   },
   "outputs": [
    {
     "data": {
      "image/png": "[encoded data removed]",
      "text/plain": [
       "<PIL.Image.Image image mode=L size=240x160 at 0x7F8654EEB550>"
      ]
     },
     "execution_count": 23,
     "metadata": {},
     "output_type": "execute_result"
    }
   ],
   "source": [
    "pil_from_tensor(tes)"
   ]
  },
  {
   "cell_type": "code",
   "execution_count": null,
   "id": "prompt-swiss",
   "metadata": {},
   "outputs": [],
   "source": []
  }
 ],
 "metadata": {
  "jupytext": {
   "cell_metadata_filter": "-all",
   "main_language": "python",
   "notebook_metadata_filter": "-all"
  },
  "kernelspec": {
   "display_name": "Python 3",
   "language": "python",
   "name": "python3"
  },
  "language_info": {
   "codemirror_mode": {
    "name": "ipython",
    "version": 3
   },
   "file_extension": ".py",
   "mimetype": "text/x-python",
   "name": "python",
   "nbconvert_exporter": "python",
   "pygments_lexer": "ipython3",
   "version": "3.9.5"
  }
 },
 "nbformat": 4,
 "nbformat_minor": 5
}
